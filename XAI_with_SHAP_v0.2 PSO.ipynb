{
 "cells": [
  {
   "cell_type": "markdown",
   "metadata": {},
   "source": [
    "# XAI Implementation with SHAP\n",
    "##### Reference to all related LR, and senior progress report \n",
    "##### 👉 https://grove-wish-6a4.notion.site/Literature-Review-for-XAI-Abdulla-16a044f5ae6480eaabf8ef223735ff37?pvs=4\n",
    "---"
   ]
  },
  {
   "cell_type": "markdown",
   "metadata": {},
   "source": [
    "##### Necessary Imports for the entire program"
   ]
  },
  {
   "cell_type": "code",
   "execution_count": 27,
   "metadata": {},
   "outputs": [],
   "source": [
    "# - Data Manipulation and Preprocessing\n",
    "import pandas as pd         # For handling datasets and data manipulation\n",
    "import numpy as np          # For manipulating numeric values\n",
    "\n",
    "# - Model Building\n",
    "\n",
    "# For splitting data \n",
    "from sklearn.model_selection import train_test_split \n",
    "\n",
    "from sklearn.metrics import (\n",
    "    accuracy_score         # For evaluating model accuracy\n",
    ")\n",
    "\n",
    "# - Machine Learning Models\n",
    "from sklearn.ensemble import RandomForestClassifier  # For Random Forest Classifier\n",
    "\n",
    "\n",
    "# - Visualization\n",
    "import plotly.express as px                          # For simple, expressive plotting\n",
    "import matplotlib.pyplot as plt                      # For plotting static visualizations\n",
    "\n",
    "\n",
    "# - XAI Implementation\n",
    "import shap                                          # For Implementing SHAP"
   ]
  },
  {
   "cell_type": "markdown",
   "metadata": {},
   "source": [
    "##### <u>**Loading and viewing the dataset**</u> "
   ]
  },
  {
   "cell_type": "code",
   "execution_count": 28,
   "metadata": {},
   "outputs": [
    {
     "data": {
      "text/html": [
       "<div>\n",
       "<style scoped>\n",
       "    .dataframe tbody tr th:only-of-type {\n",
       "        vertical-align: middle;\n",
       "    }\n",
       "\n",
       "    .dataframe tbody tr th {\n",
       "        vertical-align: top;\n",
       "    }\n",
       "\n",
       "    .dataframe thead th {\n",
       "        text-align: right;\n",
       "    }\n",
       "</style>\n",
       "<table border=\"1\" class=\"dataframe\">\n",
       "  <thead>\n",
       "    <tr style=\"text-align: right;\">\n",
       "      <th></th>\n",
       "      <th>FNTA</th>\n",
       "      <th>RPL13A</th>\n",
       "      <th>PRKAB2</th>\n",
       "      <th>LMAN1</th>\n",
       "      <th>PLEKHH3</th>\n",
       "      <th>FOXG1</th>\n",
       "      <th>LENEP</th>\n",
       "      <th>PLEKHM1</th>\n",
       "      <th>ZNF331</th>\n",
       "      <th>WASL</th>\n",
       "      <th>...</th>\n",
       "      <th>LEPR</th>\n",
       "      <th>VIPR1</th>\n",
       "      <th>ABCG5</th>\n",
       "      <th>CTBS</th>\n",
       "      <th>PDGFRA</th>\n",
       "      <th>CHST4</th>\n",
       "      <th>ATP5D</th>\n",
       "      <th>DNAJB14</th>\n",
       "      <th>BMP5</th>\n",
       "      <th>Symbol</th>\n",
       "    </tr>\n",
       "  </thead>\n",
       "  <tbody>\n",
       "    <tr>\n",
       "      <th>0</th>\n",
       "      <td>11.297200</td>\n",
       "      <td>14.966000</td>\n",
       "      <td>9.498130</td>\n",
       "      <td>11.731300</td>\n",
       "      <td>8.305770</td>\n",
       "      <td>1.792970</td>\n",
       "      <td>0.896011</td>\n",
       "      <td>8.758000</td>\n",
       "      <td>8.418010</td>\n",
       "      <td>10.680500</td>\n",
       "      <td>...</td>\n",
       "      <td>12.408900</td>\n",
       "      <td>8.841790</td>\n",
       "      <td>12.072300</td>\n",
       "      <td>9.920940</td>\n",
       "      <td>7.784400</td>\n",
       "      <td>7.641680</td>\n",
       "      <td>12.830600</td>\n",
       "      <td>9.134580</td>\n",
       "      <td>7.305270</td>\n",
       "      <td>sl</td>\n",
       "    </tr>\n",
       "    <tr>\n",
       "      <th>1</th>\n",
       "      <td>10.824800</td>\n",
       "      <td>15.117000</td>\n",
       "      <td>9.571150</td>\n",
       "      <td>12.398000</td>\n",
       "      <td>8.823390</td>\n",
       "      <td>1.098990</td>\n",
       "      <td>0.893618</td>\n",
       "      <td>10.087700</td>\n",
       "      <td>8.781200</td>\n",
       "      <td>10.650500</td>\n",
       "      <td>...</td>\n",
       "      <td>12.392500</td>\n",
       "      <td>9.896900</td>\n",
       "      <td>10.825600</td>\n",
       "      <td>9.973580</td>\n",
       "      <td>11.152900</td>\n",
       "      <td>9.628030</td>\n",
       "      <td>13.010900</td>\n",
       "      <td>9.605040</td>\n",
       "      <td>6.587220</td>\n",
       "      <td>sl</td>\n",
       "    </tr>\n",
       "    <tr>\n",
       "      <th>2</th>\n",
       "      <td>10.847800</td>\n",
       "      <td>15.094800</td>\n",
       "      <td>9.205950</td>\n",
       "      <td>12.905100</td>\n",
       "      <td>9.021860</td>\n",
       "      <td>1.319160</td>\n",
       "      <td>1.255240</td>\n",
       "      <td>9.610530</td>\n",
       "      <td>8.872160</td>\n",
       "      <td>10.418000</td>\n",
       "      <td>...</td>\n",
       "      <td>13.242800</td>\n",
       "      <td>9.736940</td>\n",
       "      <td>11.017900</td>\n",
       "      <td>10.080300</td>\n",
       "      <td>10.780300</td>\n",
       "      <td>9.974950</td>\n",
       "      <td>13.633200</td>\n",
       "      <td>9.173220</td>\n",
       "      <td>6.502350</td>\n",
       "      <td>sl</td>\n",
       "    </tr>\n",
       "    <tr>\n",
       "      <th>3</th>\n",
       "      <td>11.285000</td>\n",
       "      <td>14.872900</td>\n",
       "      <td>9.351100</td>\n",
       "      <td>12.919500</td>\n",
       "      <td>8.443840</td>\n",
       "      <td>1.100720</td>\n",
       "      <td>0.894844</td>\n",
       "      <td>10.030300</td>\n",
       "      <td>8.592660</td>\n",
       "      <td>10.404600</td>\n",
       "      <td>...</td>\n",
       "      <td>11.796800</td>\n",
       "      <td>8.841690</td>\n",
       "      <td>11.536800</td>\n",
       "      <td>10.152500</td>\n",
       "      <td>10.192600</td>\n",
       "      <td>8.131270</td>\n",
       "      <td>13.023700</td>\n",
       "      <td>9.565130</td>\n",
       "      <td>6.501770</td>\n",
       "      <td>sl</td>\n",
       "    </tr>\n",
       "    <tr>\n",
       "      <th>4</th>\n",
       "      <td>10.645000</td>\n",
       "      <td>15.358600</td>\n",
       "      <td>9.070840</td>\n",
       "      <td>12.444800</td>\n",
       "      <td>9.259130</td>\n",
       "      <td>1.100160</td>\n",
       "      <td>0.894447</td>\n",
       "      <td>9.695740</td>\n",
       "      <td>9.565850</td>\n",
       "      <td>10.493300</td>\n",
       "      <td>...</td>\n",
       "      <td>11.735800</td>\n",
       "      <td>9.612080</td>\n",
       "      <td>11.527200</td>\n",
       "      <td>9.530410</td>\n",
       "      <td>9.555440</td>\n",
       "      <td>7.438170</td>\n",
       "      <td>13.925600</td>\n",
       "      <td>8.122950</td>\n",
       "      <td>5.065310</td>\n",
       "      <td>sl</td>\n",
       "    </tr>\n",
       "    <tr>\n",
       "      <th>...</th>\n",
       "      <td>...</td>\n",
       "      <td>...</td>\n",
       "      <td>...</td>\n",
       "      <td>...</td>\n",
       "      <td>...</td>\n",
       "      <td>...</td>\n",
       "      <td>...</td>\n",
       "      <td>...</td>\n",
       "      <td>...</td>\n",
       "      <td>...</td>\n",
       "      <td>...</td>\n",
       "      <td>...</td>\n",
       "      <td>...</td>\n",
       "      <td>...</td>\n",
       "      <td>...</td>\n",
       "      <td>...</td>\n",
       "      <td>...</td>\n",
       "      <td>...</td>\n",
       "      <td>...</td>\n",
       "      <td>...</td>\n",
       "      <td>...</td>\n",
       "    </tr>\n",
       "    <tr>\n",
       "      <th>765</th>\n",
       "      <td>10.030643</td>\n",
       "      <td>10.583749</td>\n",
       "      <td>8.462638</td>\n",
       "      <td>6.637312</td>\n",
       "      <td>7.195148</td>\n",
       "      <td>5.885801</td>\n",
       "      <td>5.706954</td>\n",
       "      <td>7.158889</td>\n",
       "      <td>7.005923</td>\n",
       "      <td>10.334260</td>\n",
       "      <td>...</td>\n",
       "      <td>10.352682</td>\n",
       "      <td>10.481065</td>\n",
       "      <td>8.078393</td>\n",
       "      <td>9.370270</td>\n",
       "      <td>9.867904</td>\n",
       "      <td>10.228107</td>\n",
       "      <td>11.749861</td>\n",
       "      <td>7.901930</td>\n",
       "      <td>7.006292</td>\n",
       "      <td>sl</td>\n",
       "    </tr>\n",
       "    <tr>\n",
       "      <th>766</th>\n",
       "      <td>9.308484</td>\n",
       "      <td>9.460258</td>\n",
       "      <td>8.212136</td>\n",
       "      <td>6.179422</td>\n",
       "      <td>7.275672</td>\n",
       "      <td>5.641487</td>\n",
       "      <td>5.902423</td>\n",
       "      <td>7.327063</td>\n",
       "      <td>7.062386</td>\n",
       "      <td>9.907153</td>\n",
       "      <td>...</td>\n",
       "      <td>8.157884</td>\n",
       "      <td>10.154319</td>\n",
       "      <td>8.856472</td>\n",
       "      <td>9.719864</td>\n",
       "      <td>7.500607</td>\n",
       "      <td>6.190256</td>\n",
       "      <td>12.398339</td>\n",
       "      <td>8.159077</td>\n",
       "      <td>5.920143</td>\n",
       "      <td>ehcc</td>\n",
       "    </tr>\n",
       "    <tr>\n",
       "      <th>767</th>\n",
       "      <td>9.780593</td>\n",
       "      <td>10.147125</td>\n",
       "      <td>9.188711</td>\n",
       "      <td>6.602732</td>\n",
       "      <td>7.006846</td>\n",
       "      <td>6.031874</td>\n",
       "      <td>5.711407</td>\n",
       "      <td>7.464194</td>\n",
       "      <td>6.388256</td>\n",
       "      <td>10.064824</td>\n",
       "      <td>...</td>\n",
       "      <td>9.898550</td>\n",
       "      <td>8.987347</td>\n",
       "      <td>9.684653</td>\n",
       "      <td>9.120302</td>\n",
       "      <td>6.932221</td>\n",
       "      <td>6.122836</td>\n",
       "      <td>11.882567</td>\n",
       "      <td>8.048209</td>\n",
       "      <td>6.116673</td>\n",
       "      <td>ehcc</td>\n",
       "    </tr>\n",
       "    <tr>\n",
       "      <th>768</th>\n",
       "      <td>9.818722</td>\n",
       "      <td>9.747493</td>\n",
       "      <td>8.596682</td>\n",
       "      <td>6.701066</td>\n",
       "      <td>7.712645</td>\n",
       "      <td>5.956010</td>\n",
       "      <td>5.893906</td>\n",
       "      <td>7.203791</td>\n",
       "      <td>7.014167</td>\n",
       "      <td>10.614054</td>\n",
       "      <td>...</td>\n",
       "      <td>8.782304</td>\n",
       "      <td>9.409681</td>\n",
       "      <td>8.287098</td>\n",
       "      <td>9.899270</td>\n",
       "      <td>7.671989</td>\n",
       "      <td>6.321199</td>\n",
       "      <td>11.999193</td>\n",
       "      <td>7.937260</td>\n",
       "      <td>6.201666</td>\n",
       "      <td>ehcc</td>\n",
       "    </tr>\n",
       "    <tr>\n",
       "      <th>769</th>\n",
       "      <td>10.090040</td>\n",
       "      <td>11.310322</td>\n",
       "      <td>7.940806</td>\n",
       "      <td>6.454721</td>\n",
       "      <td>7.501669</td>\n",
       "      <td>5.878988</td>\n",
       "      <td>5.955920</td>\n",
       "      <td>7.035160</td>\n",
       "      <td>8.929936</td>\n",
       "      <td>10.137926</td>\n",
       "      <td>...</td>\n",
       "      <td>9.253414</td>\n",
       "      <td>10.622509</td>\n",
       "      <td>6.834667</td>\n",
       "      <td>8.960917</td>\n",
       "      <td>10.388683</td>\n",
       "      <td>11.311672</td>\n",
       "      <td>11.752001</td>\n",
       "      <td>7.680011</td>\n",
       "      <td>6.927864</td>\n",
       "      <td>sl</td>\n",
       "    </tr>\n",
       "  </tbody>\n",
       "</table>\n",
       "<p>770 rows × 501 columns</p>\n",
       "</div>"
      ],
      "text/plain": [
       "          FNTA     RPL13A    PRKAB2      LMAN1   PLEKHH3     FOXG1     LENEP  \\\n",
       "0    11.297200  14.966000  9.498130  11.731300  8.305770  1.792970  0.896011   \n",
       "1    10.824800  15.117000  9.571150  12.398000  8.823390  1.098990  0.893618   \n",
       "2    10.847800  15.094800  9.205950  12.905100  9.021860  1.319160  1.255240   \n",
       "3    11.285000  14.872900  9.351100  12.919500  8.443840  1.100720  0.894844   \n",
       "4    10.645000  15.358600  9.070840  12.444800  9.259130  1.100160  0.894447   \n",
       "..         ...        ...       ...        ...       ...       ...       ...   \n",
       "765  10.030643  10.583749  8.462638   6.637312  7.195148  5.885801  5.706954   \n",
       "766   9.308484   9.460258  8.212136   6.179422  7.275672  5.641487  5.902423   \n",
       "767   9.780593  10.147125  9.188711   6.602732  7.006846  6.031874  5.711407   \n",
       "768   9.818722   9.747493  8.596682   6.701066  7.712645  5.956010  5.893906   \n",
       "769  10.090040  11.310322  7.940806   6.454721  7.501669  5.878988  5.955920   \n",
       "\n",
       "       PLEKHM1    ZNF331       WASL  ...       LEPR      VIPR1      ABCG5  \\\n",
       "0     8.758000  8.418010  10.680500  ...  12.408900   8.841790  12.072300   \n",
       "1    10.087700  8.781200  10.650500  ...  12.392500   9.896900  10.825600   \n",
       "2     9.610530  8.872160  10.418000  ...  13.242800   9.736940  11.017900   \n",
       "3    10.030300  8.592660  10.404600  ...  11.796800   8.841690  11.536800   \n",
       "4     9.695740  9.565850  10.493300  ...  11.735800   9.612080  11.527200   \n",
       "..         ...       ...        ...  ...        ...        ...        ...   \n",
       "765   7.158889  7.005923  10.334260  ...  10.352682  10.481065   8.078393   \n",
       "766   7.327063  7.062386   9.907153  ...   8.157884  10.154319   8.856472   \n",
       "767   7.464194  6.388256  10.064824  ...   9.898550   8.987347   9.684653   \n",
       "768   7.203791  7.014167  10.614054  ...   8.782304   9.409681   8.287098   \n",
       "769   7.035160  8.929936  10.137926  ...   9.253414  10.622509   6.834667   \n",
       "\n",
       "          CTBS     PDGFRA      CHST4      ATP5D   DNAJB14      BMP5  Symbol  \n",
       "0     9.920940   7.784400   7.641680  12.830600  9.134580  7.305270      sl  \n",
       "1     9.973580  11.152900   9.628030  13.010900  9.605040  6.587220      sl  \n",
       "2    10.080300  10.780300   9.974950  13.633200  9.173220  6.502350      sl  \n",
       "3    10.152500  10.192600   8.131270  13.023700  9.565130  6.501770      sl  \n",
       "4     9.530410   9.555440   7.438170  13.925600  8.122950  5.065310      sl  \n",
       "..         ...        ...        ...        ...       ...       ...     ...  \n",
       "765   9.370270   9.867904  10.228107  11.749861  7.901930  7.006292      sl  \n",
       "766   9.719864   7.500607   6.190256  12.398339  8.159077  5.920143    ehcc  \n",
       "767   9.120302   6.932221   6.122836  11.882567  8.048209  6.116673    ehcc  \n",
       "768   9.899270   7.671989   6.321199  11.999193  7.937260  6.201666    ehcc  \n",
       "769   8.960917  10.388683  11.311672  11.752001  7.680011  6.927864      sl  \n",
       "\n",
       "[770 rows x 501 columns]"
      ]
     },
     "execution_count": 28,
     "metadata": {},
     "output_type": "execute_result"
    }
   ],
   "source": [
    "data = pd.read_csv(\"selected_genes_500_xg.csv\")\n",
    "\n",
    "data"
   ]
  },
  {
   "cell_type": "markdown",
   "metadata": {},
   "source": [
    "##### <u>**Removal of duplicates**</u>"
   ]
  },
  {
   "cell_type": "code",
   "execution_count": 29,
   "metadata": {},
   "outputs": [
    {
     "name": "stdout",
     "output_type": "stream",
     "text": [
      "Duplicate rows present in our liver cancer dataset:\n",
      "Empty DataFrame\n",
      "Columns: [FNTA, RPL13A, PRKAB2, LMAN1, PLEKHH3, FOXG1, LENEP, PLEKHM1, ZNF331, WASL, PALM, MMRN2, UPF3B, HK1, CADPS, KLRB1, ARMCX4, IGF2BP3, TMEM158, EXOC3, TJP2, MICA, HNRNPAB, CRADD, CCR1, ABCD1, OLFML1, OTUD3, PRKAR1B, AQP6, FLCN, YBX2, NTSR2, ABCC3, EPYC, WDR43, TBX5, TIMM10, DLEC1, RIN3, ACTL6A, NOL8, MCFD2, RNASET2, PRPF4B, PTPRM, CASR, RANBP2, ABCD4, SMARCD2, PPP2R5C, RAD54L, GABARAPL2, IRF9, FNBP1, SLC1A1, SYNGR3, ZBTB43, AOAH, ATP6V0D1, MAL, CYP4F3, MPP1, SCNN1D, ZNF385D, ZXDA, ZNF362, ZNF415, TEX2, GALNT4, CACNA1A, PODXL2, MYC, WDR91, TNFSF12, CRKL, MAP2K7, TUBB3, NDUFB4, ZBTB39, MARCKS, USP48, KLHDC8A, ARTN, LMAN1L, TM6SF1, ANKHD1-EIF4EBP3, LRRC31, ARPC5, PA2G4, TOP3B, MBD4, FAM49A, STC1, SLC22A4, TOM1L1, KNTC1, POMZP3, MEP1A, PDCD6IP, ...]\n",
      "Index: []\n",
      "\n",
      "[0 rows x 501 columns]\n",
      "Our dataframe object after removing duplicates:\n",
      "          FNTA     RPL13A    PRKAB2      LMAN1   PLEKHH3     FOXG1     LENEP  \\\n",
      "0    11.297200  14.966000  9.498130  11.731300  8.305770  1.792970  0.896011   \n",
      "1    10.824800  15.117000  9.571150  12.398000  8.823390  1.098990  0.893618   \n",
      "2    10.847800  15.094800  9.205950  12.905100  9.021860  1.319160  1.255240   \n",
      "3    11.285000  14.872900  9.351100  12.919500  8.443840  1.100720  0.894844   \n",
      "4    10.645000  15.358600  9.070840  12.444800  9.259130  1.100160  0.894447   \n",
      "..         ...        ...       ...        ...       ...       ...       ...   \n",
      "765  10.030643  10.583749  8.462638   6.637312  7.195148  5.885801  5.706954   \n",
      "766   9.308484   9.460258  8.212136   6.179422  7.275672  5.641487  5.902423   \n",
      "767   9.780593  10.147125  9.188711   6.602732  7.006846  6.031874  5.711407   \n",
      "768   9.818722   9.747493  8.596682   6.701066  7.712645  5.956010  5.893906   \n",
      "769  10.090040  11.310322  7.940806   6.454721  7.501669  5.878988  5.955920   \n",
      "\n",
      "       PLEKHM1    ZNF331       WASL  ...       LEPR      VIPR1      ABCG5  \\\n",
      "0     8.758000  8.418010  10.680500  ...  12.408900   8.841790  12.072300   \n",
      "1    10.087700  8.781200  10.650500  ...  12.392500   9.896900  10.825600   \n",
      "2     9.610530  8.872160  10.418000  ...  13.242800   9.736940  11.017900   \n",
      "3    10.030300  8.592660  10.404600  ...  11.796800   8.841690  11.536800   \n",
      "4     9.695740  9.565850  10.493300  ...  11.735800   9.612080  11.527200   \n",
      "..         ...       ...        ...  ...        ...        ...        ...   \n",
      "765   7.158889  7.005923  10.334260  ...  10.352682  10.481065   8.078393   \n",
      "766   7.327063  7.062386   9.907153  ...   8.157884  10.154319   8.856472   \n",
      "767   7.464194  6.388256  10.064824  ...   9.898550   8.987347   9.684653   \n",
      "768   7.203791  7.014167  10.614054  ...   8.782304   9.409681   8.287098   \n",
      "769   7.035160  8.929936  10.137926  ...   9.253414  10.622509   6.834667   \n",
      "\n",
      "          CTBS     PDGFRA      CHST4      ATP5D   DNAJB14      BMP5  Symbol  \n",
      "0     9.920940   7.784400   7.641680  12.830600  9.134580  7.305270      sl  \n",
      "1     9.973580  11.152900   9.628030  13.010900  9.605040  6.587220      sl  \n",
      "2    10.080300  10.780300   9.974950  13.633200  9.173220  6.502350      sl  \n",
      "3    10.152500  10.192600   8.131270  13.023700  9.565130  6.501770      sl  \n",
      "4     9.530410   9.555440   7.438170  13.925600  8.122950  5.065310      sl  \n",
      "..         ...        ...        ...        ...       ...       ...     ...  \n",
      "765   9.370270   9.867904  10.228107  11.749861  7.901930  7.006292      sl  \n",
      "766   9.719864   7.500607   6.190256  12.398339  8.159077  5.920143    ehcc  \n",
      "767   9.120302   6.932221   6.122836  11.882567  8.048209  6.116673    ehcc  \n",
      "768   9.899270   7.671989   6.321199  11.999193  7.937260  6.201666    ehcc  \n",
      "769   8.960917  10.388683  11.311672  11.752001  7.680011  6.927864      sl  \n",
      "\n",
      "[770 rows x 501 columns]\n"
     ]
    }
   ],
   "source": [
    "duplicates = data.duplicated()\n",
    "print(\"Duplicate rows present in our liver cancer dataset:\")\n",
    "print(data[duplicates])\n",
    "\n",
    "data = data.drop_duplicates()\n",
    "\n",
    "print(\"Our dataframe object after removing duplicates:\")\n",
    "print(data)"
   ]
  },
  {
   "cell_type": "markdown",
   "metadata": {},
   "source": [
    "#### We can notice that there were no duplicate rows amongst our dataset"
   ]
  },
  {
   "cell_type": "markdown",
   "metadata": {},
   "source": [
    "##### Let's observe a general description of the data"
   ]
  },
  {
   "cell_type": "code",
   "execution_count": 30,
   "metadata": {},
   "outputs": [
    {
     "data": {
      "text/html": [
       "<div>\n",
       "<style scoped>\n",
       "    .dataframe tbody tr th:only-of-type {\n",
       "        vertical-align: middle;\n",
       "    }\n",
       "\n",
       "    .dataframe tbody tr th {\n",
       "        vertical-align: top;\n",
       "    }\n",
       "\n",
       "    .dataframe thead th {\n",
       "        text-align: right;\n",
       "    }\n",
       "</style>\n",
       "<table border=\"1\" class=\"dataframe\">\n",
       "  <thead>\n",
       "    <tr style=\"text-align: right;\">\n",
       "      <th></th>\n",
       "      <th>FNTA</th>\n",
       "      <th>RPL13A</th>\n",
       "      <th>PRKAB2</th>\n",
       "      <th>LMAN1</th>\n",
       "      <th>PLEKHH3</th>\n",
       "      <th>FOXG1</th>\n",
       "      <th>LENEP</th>\n",
       "      <th>PLEKHM1</th>\n",
       "      <th>ZNF331</th>\n",
       "      <th>WASL</th>\n",
       "      <th>...</th>\n",
       "      <th>TSPAN7</th>\n",
       "      <th>LEPR</th>\n",
       "      <th>VIPR1</th>\n",
       "      <th>ABCG5</th>\n",
       "      <th>CTBS</th>\n",
       "      <th>PDGFRA</th>\n",
       "      <th>CHST4</th>\n",
       "      <th>ATP5D</th>\n",
       "      <th>DNAJB14</th>\n",
       "      <th>BMP5</th>\n",
       "    </tr>\n",
       "  </thead>\n",
       "  <tbody>\n",
       "    <tr>\n",
       "      <th>count</th>\n",
       "      <td>770.000000</td>\n",
       "      <td>770.000000</td>\n",
       "      <td>770.000000</td>\n",
       "      <td>770.000000</td>\n",
       "      <td>770.000000</td>\n",
       "      <td>770.000000</td>\n",
       "      <td>770.000000</td>\n",
       "      <td>770.000000</td>\n",
       "      <td>770.000000</td>\n",
       "      <td>770.000000</td>\n",
       "      <td>...</td>\n",
       "      <td>770.000000</td>\n",
       "      <td>770.000000</td>\n",
       "      <td>770.000000</td>\n",
       "      <td>770.000000</td>\n",
       "      <td>770.000000</td>\n",
       "      <td>770.000000</td>\n",
       "      <td>770.000000</td>\n",
       "      <td>770.000000</td>\n",
       "      <td>770.000000</td>\n",
       "      <td>770.000000</td>\n",
       "    </tr>\n",
       "    <tr>\n",
       "      <th>mean</th>\n",
       "      <td>9.830529</td>\n",
       "      <td>11.386738</td>\n",
       "      <td>6.632759</td>\n",
       "      <td>6.650699</td>\n",
       "      <td>4.147177</td>\n",
       "      <td>3.502188</td>\n",
       "      <td>4.729801</td>\n",
       "      <td>5.931961</td>\n",
       "      <td>7.461844</td>\n",
       "      <td>8.076463</td>\n",
       "      <td>...</td>\n",
       "      <td>6.821512</td>\n",
       "      <td>6.564034</td>\n",
       "      <td>6.478701</td>\n",
       "      <td>8.914742</td>\n",
       "      <td>7.516251</td>\n",
       "      <td>7.166102</td>\n",
       "      <td>5.708625</td>\n",
       "      <td>8.084441</td>\n",
       "      <td>7.666284</td>\n",
       "      <td>3.623757</td>\n",
       "    </tr>\n",
       "    <tr>\n",
       "      <th>std</th>\n",
       "      <td>0.849492</td>\n",
       "      <td>1.070341</td>\n",
       "      <td>1.372231</td>\n",
       "      <td>1.707957</td>\n",
       "      <td>1.543616</td>\n",
       "      <td>1.449236</td>\n",
       "      <td>0.994949</td>\n",
       "      <td>0.988004</td>\n",
       "      <td>1.535125</td>\n",
       "      <td>1.574285</td>\n",
       "      <td>...</td>\n",
       "      <td>1.096398</td>\n",
       "      <td>2.285055</td>\n",
       "      <td>1.391966</td>\n",
       "      <td>1.871927</td>\n",
       "      <td>1.293298</td>\n",
       "      <td>2.540508</td>\n",
       "      <td>1.861424</td>\n",
       "      <td>1.741504</td>\n",
       "      <td>0.977664</td>\n",
       "      <td>1.439751</td>\n",
       "    </tr>\n",
       "    <tr>\n",
       "      <th>min</th>\n",
       "      <td>6.503775</td>\n",
       "      <td>8.458377</td>\n",
       "      <td>2.820605</td>\n",
       "      <td>2.475998</td>\n",
       "      <td>2.086013</td>\n",
       "      <td>1.092670</td>\n",
       "      <td>0.889150</td>\n",
       "      <td>4.041178</td>\n",
       "      <td>3.260362</td>\n",
       "      <td>3.738651</td>\n",
       "      <td>...</td>\n",
       "      <td>3.195900</td>\n",
       "      <td>2.346697</td>\n",
       "      <td>2.880102</td>\n",
       "      <td>2.854717</td>\n",
       "      <td>4.006609</td>\n",
       "      <td>2.116066</td>\n",
       "      <td>2.802143</td>\n",
       "      <td>5.835703</td>\n",
       "      <td>4.043386</td>\n",
       "      <td>1.567429</td>\n",
       "    </tr>\n",
       "    <tr>\n",
       "      <th>25%</th>\n",
       "      <td>9.304760</td>\n",
       "      <td>10.741000</td>\n",
       "      <td>5.714509</td>\n",
       "      <td>5.792298</td>\n",
       "      <td>3.299575</td>\n",
       "      <td>2.824644</td>\n",
       "      <td>4.325317</td>\n",
       "      <td>5.394093</td>\n",
       "      <td>6.392302</td>\n",
       "      <td>7.150717</td>\n",
       "      <td>...</td>\n",
       "      <td>6.082886</td>\n",
       "      <td>4.926110</td>\n",
       "      <td>5.690263</td>\n",
       "      <td>8.153266</td>\n",
       "      <td>6.780238</td>\n",
       "      <td>4.828880</td>\n",
       "      <td>4.428785</td>\n",
       "      <td>7.096043</td>\n",
       "      <td>7.271608</td>\n",
       "      <td>2.632070</td>\n",
       "    </tr>\n",
       "    <tr>\n",
       "      <th>50%</th>\n",
       "      <td>9.853110</td>\n",
       "      <td>11.418217</td>\n",
       "      <td>6.483085</td>\n",
       "      <td>6.640908</td>\n",
       "      <td>3.642899</td>\n",
       "      <td>3.081715</td>\n",
       "      <td>4.894539</td>\n",
       "      <td>5.605948</td>\n",
       "      <td>7.510724</td>\n",
       "      <td>8.088382</td>\n",
       "      <td>...</td>\n",
       "      <td>6.847724</td>\n",
       "      <td>6.179373</td>\n",
       "      <td>6.203456</td>\n",
       "      <td>9.251357</td>\n",
       "      <td>7.623716</td>\n",
       "      <td>7.377411</td>\n",
       "      <td>5.000871</td>\n",
       "      <td>7.606091</td>\n",
       "      <td>7.823369</td>\n",
       "      <td>2.969673</td>\n",
       "    </tr>\n",
       "    <tr>\n",
       "      <th>75%</th>\n",
       "      <td>10.318969</td>\n",
       "      <td>11.918522</td>\n",
       "      <td>7.401941</td>\n",
       "      <td>7.378960</td>\n",
       "      <td>4.228279</td>\n",
       "      <td>3.928156</td>\n",
       "      <td>5.342103</td>\n",
       "      <td>6.027815</td>\n",
       "      <td>8.507082</td>\n",
       "      <td>9.109302</td>\n",
       "      <td>...</td>\n",
       "      <td>7.611388</td>\n",
       "      <td>7.996107</td>\n",
       "      <td>6.962566</td>\n",
       "      <td>10.076888</td>\n",
       "      <td>8.318910</td>\n",
       "      <td>8.914388</td>\n",
       "      <td>6.844163</td>\n",
       "      <td>8.041807</td>\n",
       "      <td>8.181409</td>\n",
       "      <td>4.566655</td>\n",
       "    </tr>\n",
       "    <tr>\n",
       "      <th>max</th>\n",
       "      <td>12.360497</td>\n",
       "      <td>15.541100</td>\n",
       "      <td>11.198500</td>\n",
       "      <td>13.248300</td>\n",
       "      <td>10.846400</td>\n",
       "      <td>10.713577</td>\n",
       "      <td>6.866125</td>\n",
       "      <td>10.223200</td>\n",
       "      <td>11.552221</td>\n",
       "      <td>11.618500</td>\n",
       "      <td>...</td>\n",
       "      <td>10.037737</td>\n",
       "      <td>13.530900</td>\n",
       "      <td>11.280150</td>\n",
       "      <td>13.029400</td>\n",
       "      <td>10.959600</td>\n",
       "      <td>12.315176</td>\n",
       "      <td>12.168509</td>\n",
       "      <td>14.277900</td>\n",
       "      <td>10.441366</td>\n",
       "      <td>7.339790</td>\n",
       "    </tr>\n",
       "  </tbody>\n",
       "</table>\n",
       "<p>8 rows × 500 columns</p>\n",
       "</div>"
      ],
      "text/plain": [
       "             FNTA      RPL13A      PRKAB2       LMAN1     PLEKHH3       FOXG1  \\\n",
       "count  770.000000  770.000000  770.000000  770.000000  770.000000  770.000000   \n",
       "mean     9.830529   11.386738    6.632759    6.650699    4.147177    3.502188   \n",
       "std      0.849492    1.070341    1.372231    1.707957    1.543616    1.449236   \n",
       "min      6.503775    8.458377    2.820605    2.475998    2.086013    1.092670   \n",
       "25%      9.304760   10.741000    5.714509    5.792298    3.299575    2.824644   \n",
       "50%      9.853110   11.418217    6.483085    6.640908    3.642899    3.081715   \n",
       "75%     10.318969   11.918522    7.401941    7.378960    4.228279    3.928156   \n",
       "max     12.360497   15.541100   11.198500   13.248300   10.846400   10.713577   \n",
       "\n",
       "            LENEP     PLEKHM1      ZNF331        WASL  ...      TSPAN7  \\\n",
       "count  770.000000  770.000000  770.000000  770.000000  ...  770.000000   \n",
       "mean     4.729801    5.931961    7.461844    8.076463  ...    6.821512   \n",
       "std      0.994949    0.988004    1.535125    1.574285  ...    1.096398   \n",
       "min      0.889150    4.041178    3.260362    3.738651  ...    3.195900   \n",
       "25%      4.325317    5.394093    6.392302    7.150717  ...    6.082886   \n",
       "50%      4.894539    5.605948    7.510724    8.088382  ...    6.847724   \n",
       "75%      5.342103    6.027815    8.507082    9.109302  ...    7.611388   \n",
       "max      6.866125   10.223200   11.552221   11.618500  ...   10.037737   \n",
       "\n",
       "             LEPR       VIPR1       ABCG5        CTBS      PDGFRA       CHST4  \\\n",
       "count  770.000000  770.000000  770.000000  770.000000  770.000000  770.000000   \n",
       "mean     6.564034    6.478701    8.914742    7.516251    7.166102    5.708625   \n",
       "std      2.285055    1.391966    1.871927    1.293298    2.540508    1.861424   \n",
       "min      2.346697    2.880102    2.854717    4.006609    2.116066    2.802143   \n",
       "25%      4.926110    5.690263    8.153266    6.780238    4.828880    4.428785   \n",
       "50%      6.179373    6.203456    9.251357    7.623716    7.377411    5.000871   \n",
       "75%      7.996107    6.962566   10.076888    8.318910    8.914388    6.844163   \n",
       "max     13.530900   11.280150   13.029400   10.959600   12.315176   12.168509   \n",
       "\n",
       "            ATP5D     DNAJB14        BMP5  \n",
       "count  770.000000  770.000000  770.000000  \n",
       "mean     8.084441    7.666284    3.623757  \n",
       "std      1.741504    0.977664    1.439751  \n",
       "min      5.835703    4.043386    1.567429  \n",
       "25%      7.096043    7.271608    2.632070  \n",
       "50%      7.606091    7.823369    2.969673  \n",
       "75%      8.041807    8.181409    4.566655  \n",
       "max     14.277900   10.441366    7.339790  \n",
       "\n",
       "[8 rows x 500 columns]"
      ]
     },
     "execution_count": 30,
     "metadata": {},
     "output_type": "execute_result"
    }
   ],
   "source": [
    "data.describe()"
   ]
  },
  {
   "cell_type": "code",
   "execution_count": 31,
   "metadata": {},
   "outputs": [
    {
     "name": "stdout",
     "output_type": "stream",
     "text": [
      "<class 'pandas.core.frame.DataFrame'>\n",
      "Int64Index: 770 entries, 0 to 769\n",
      "Columns: 501 entries, FNTA to Symbol\n",
      "dtypes: float64(500), object(1)\n",
      "memory usage: 2.9+ MB\n"
     ]
    }
   ],
   "source": [
    "data.info()"
   ]
  },
  {
   "cell_type": "markdown",
   "metadata": {},
   "source": [
    "##### <u>**Checking null values using `isnull()` function**</u>"
   ]
  },
  {
   "cell_type": "code",
   "execution_count": 32,
   "metadata": {},
   "outputs": [
    {
     "data": {
      "text/plain": [
       "FNTA       0\n",
       "RPL13A     0\n",
       "PRKAB2     0\n",
       "LMAN1      0\n",
       "PLEKHH3    0\n",
       "          ..\n",
       "CHST4      0\n",
       "ATP5D      0\n",
       "DNAJB14    0\n",
       "BMP5       0\n",
       "Symbol     0\n",
       "Length: 501, dtype: int64"
      ]
     },
     "execution_count": 32,
     "metadata": {},
     "output_type": "execute_result"
    }
   ],
   "source": [
    "data.isnull().sum()"
   ]
  },
  {
   "cell_type": "markdown",
   "metadata": {},
   "source": [
    "##### **Filtering of null values using `fillna()` function**\n",
    "\n",
    "```python\n",
    "df.fillna(0, inplace=True) # For replacing NaN values with 0"
   ]
  },
  {
   "cell_type": "code",
   "execution_count": 33,
   "metadata": {},
   "outputs": [
    {
     "name": "stdout",
     "output_type": "stream",
     "text": [
      "Series([], dtype: int64)\n"
     ]
    }
   ],
   "source": [
    "data.fillna(0, inplace=True)\n",
    "\n",
    "# Check for any null values still exists in the dataset\n",
    "null_counts = data.isnull().sum()\n",
    "print(null_counts[null_counts > 0])"
   ]
  },
  {
   "cell_type": "markdown",
   "metadata": {},
   "source": [
    "##### No null values, we get an empty array."
   ]
  },
  {
   "cell_type": "markdown",
   "metadata": {},
   "source": [
    "##### <u>**Re-encoding Labels for Classification**</u>\n",
    "\n",
    "##### (From the senior group)"
   ]
  },
  {
   "cell_type": "code",
   "execution_count": 34,
   "metadata": {},
   "outputs": [],
   "source": [
    "target = data[\"Symbol\"].map({\n",
    "    \"sl\": 0,\n",
    "    \"hgdn\": 1,\n",
    "    \"lgdn\": 2, \n",
    "    \"ehcc\": 3, \n",
    "    \"phcc\": 4\n",
    "})"
   ]
  },
  {
   "cell_type": "markdown",
   "metadata": {},
   "source": [
    "##### **Note that we didn't keep the old Category labels in order to avoid redundancy**\n",
    "\n",
    "#### <u> **Encoded Labels Mapping** </u>\n",
    "- **`sl`** → `0`\n",
    "- **`hgdn`** → `1`\n",
    "- **`lgdn`** → `2`\n",
    "- **`ehcc`** → `3`\n",
    "- **`phcc`** → `4`\n",
    "\n",
    "This is to showcase the order of mapping that was done after the encoding process\n"
   ]
  },
  {
   "cell_type": "markdown",
   "metadata": {},
   "source": [
    "### <u> **Univariant Analysis** </u>"
   ]
  },
  {
   "cell_type": "code",
   "execution_count": 35,
   "metadata": {},
   "outputs": [
    {
     "data": {
      "text/plain": [
       "phcc    331\n",
       "ehcc    305\n",
       "lgdn     70\n",
       "hgdn     38\n",
       "sl       26\n",
       "Name: Symbol, dtype: int64"
      ]
     },
     "execution_count": 35,
     "metadata": {},
     "output_type": "execute_result"
    }
   ],
   "source": [
    "data.Symbol.value_counts()"
   ]
  },
  {
   "cell_type": "code",
   "execution_count": 36,
   "metadata": {},
   "outputs": [
    {
     "data": {
      "application/vnd.plotly.v1+json": {
       "config": {
        "plotlyServerURL": "https://plot.ly"
       },
       "data": [
        {
         "alignmentgroup": "True",
         "hovertemplate": "Class=%{x}<br>Number of Cases=%{y}<extra></extra>",
         "legendgroup": "",
         "marker": {
          "color": "#636efa",
          "pattern": {
           "shape": ""
          }
         },
         "name": "",
         "offsetgroup": "",
         "orientation": "v",
         "showlegend": false,
         "textposition": "auto",
         "type": "bar",
         "x": [
          "sl",
          "hgdn",
          "lgdn",
          "ehcc",
          "phcc"
         ],
         "xaxis": "x",
         "y": [
          331,
          305,
          70,
          38,
          26
         ],
         "yaxis": "y"
        }
       ],
       "layout": {
        "barmode": "relative",
        "legend": {
         "tracegroupgap": 0
        },
        "template": {
         "data": {
          "bar": [
           {
            "error_x": {
             "color": "#2a3f5f"
            },
            "error_y": {
             "color": "#2a3f5f"
            },
            "marker": {
             "line": {
              "color": "#E5ECF6",
              "width": 0.5
             },
             "pattern": {
              "fillmode": "overlay",
              "size": 10,
              "solidity": 0.2
             }
            },
            "type": "bar"
           }
          ],
          "barpolar": [
           {
            "marker": {
             "line": {
              "color": "#E5ECF6",
              "width": 0.5
             },
             "pattern": {
              "fillmode": "overlay",
              "size": 10,
              "solidity": 0.2
             }
            },
            "type": "barpolar"
           }
          ],
          "carpet": [
           {
            "aaxis": {
             "endlinecolor": "#2a3f5f",
             "gridcolor": "white",
             "linecolor": "white",
             "minorgridcolor": "white",
             "startlinecolor": "#2a3f5f"
            },
            "baxis": {
             "endlinecolor": "#2a3f5f",
             "gridcolor": "white",
             "linecolor": "white",
             "minorgridcolor": "white",
             "startlinecolor": "#2a3f5f"
            },
            "type": "carpet"
           }
          ],
          "choropleth": [
           {
            "colorbar": {
             "outlinewidth": 0,
             "ticks": ""
            },
            "type": "choropleth"
           }
          ],
          "contour": [
           {
            "colorbar": {
             "outlinewidth": 0,
             "ticks": ""
            },
            "colorscale": [
             [
              0,
              "#0d0887"
             ],
             [
              0.1111111111111111,
              "#46039f"
             ],
             [
              0.2222222222222222,
              "#7201a8"
             ],
             [
              0.3333333333333333,
              "#9c179e"
             ],
             [
              0.4444444444444444,
              "#bd3786"
             ],
             [
              0.5555555555555556,
              "#d8576b"
             ],
             [
              0.6666666666666666,
              "#ed7953"
             ],
             [
              0.7777777777777778,
              "#fb9f3a"
             ],
             [
              0.8888888888888888,
              "#fdca26"
             ],
             [
              1,
              "#f0f921"
             ]
            ],
            "type": "contour"
           }
          ],
          "contourcarpet": [
           {
            "colorbar": {
             "outlinewidth": 0,
             "ticks": ""
            },
            "type": "contourcarpet"
           }
          ],
          "heatmap": [
           {
            "colorbar": {
             "outlinewidth": 0,
             "ticks": ""
            },
            "colorscale": [
             [
              0,
              "#0d0887"
             ],
             [
              0.1111111111111111,
              "#46039f"
             ],
             [
              0.2222222222222222,
              "#7201a8"
             ],
             [
              0.3333333333333333,
              "#9c179e"
             ],
             [
              0.4444444444444444,
              "#bd3786"
             ],
             [
              0.5555555555555556,
              "#d8576b"
             ],
             [
              0.6666666666666666,
              "#ed7953"
             ],
             [
              0.7777777777777778,
              "#fb9f3a"
             ],
             [
              0.8888888888888888,
              "#fdca26"
             ],
             [
              1,
              "#f0f921"
             ]
            ],
            "type": "heatmap"
           }
          ],
          "heatmapgl": [
           {
            "colorbar": {
             "outlinewidth": 0,
             "ticks": ""
            },
            "colorscale": [
             [
              0,
              "#0d0887"
             ],
             [
              0.1111111111111111,
              "#46039f"
             ],
             [
              0.2222222222222222,
              "#7201a8"
             ],
             [
              0.3333333333333333,
              "#9c179e"
             ],
             [
              0.4444444444444444,
              "#bd3786"
             ],
             [
              0.5555555555555556,
              "#d8576b"
             ],
             [
              0.6666666666666666,
              "#ed7953"
             ],
             [
              0.7777777777777778,
              "#fb9f3a"
             ],
             [
              0.8888888888888888,
              "#fdca26"
             ],
             [
              1,
              "#f0f921"
             ]
            ],
            "type": "heatmapgl"
           }
          ],
          "histogram": [
           {
            "marker": {
             "pattern": {
              "fillmode": "overlay",
              "size": 10,
              "solidity": 0.2
             }
            },
            "type": "histogram"
           }
          ],
          "histogram2d": [
           {
            "colorbar": {
             "outlinewidth": 0,
             "ticks": ""
            },
            "colorscale": [
             [
              0,
              "#0d0887"
             ],
             [
              0.1111111111111111,
              "#46039f"
             ],
             [
              0.2222222222222222,
              "#7201a8"
             ],
             [
              0.3333333333333333,
              "#9c179e"
             ],
             [
              0.4444444444444444,
              "#bd3786"
             ],
             [
              0.5555555555555556,
              "#d8576b"
             ],
             [
              0.6666666666666666,
              "#ed7953"
             ],
             [
              0.7777777777777778,
              "#fb9f3a"
             ],
             [
              0.8888888888888888,
              "#fdca26"
             ],
             [
              1,
              "#f0f921"
             ]
            ],
            "type": "histogram2d"
           }
          ],
          "histogram2dcontour": [
           {
            "colorbar": {
             "outlinewidth": 0,
             "ticks": ""
            },
            "colorscale": [
             [
              0,
              "#0d0887"
             ],
             [
              0.1111111111111111,
              "#46039f"
             ],
             [
              0.2222222222222222,
              "#7201a8"
             ],
             [
              0.3333333333333333,
              "#9c179e"
             ],
             [
              0.4444444444444444,
              "#bd3786"
             ],
             [
              0.5555555555555556,
              "#d8576b"
             ],
             [
              0.6666666666666666,
              "#ed7953"
             ],
             [
              0.7777777777777778,
              "#fb9f3a"
             ],
             [
              0.8888888888888888,
              "#fdca26"
             ],
             [
              1,
              "#f0f921"
             ]
            ],
            "type": "histogram2dcontour"
           }
          ],
          "mesh3d": [
           {
            "colorbar": {
             "outlinewidth": 0,
             "ticks": ""
            },
            "type": "mesh3d"
           }
          ],
          "parcoords": [
           {
            "line": {
             "colorbar": {
              "outlinewidth": 0,
              "ticks": ""
             }
            },
            "type": "parcoords"
           }
          ],
          "pie": [
           {
            "automargin": true,
            "type": "pie"
           }
          ],
          "scatter": [
           {
            "fillpattern": {
             "fillmode": "overlay",
             "size": 10,
             "solidity": 0.2
            },
            "type": "scatter"
           }
          ],
          "scatter3d": [
           {
            "line": {
             "colorbar": {
              "outlinewidth": 0,
              "ticks": ""
             }
            },
            "marker": {
             "colorbar": {
              "outlinewidth": 0,
              "ticks": ""
             }
            },
            "type": "scatter3d"
           }
          ],
          "scattercarpet": [
           {
            "marker": {
             "colorbar": {
              "outlinewidth": 0,
              "ticks": ""
             }
            },
            "type": "scattercarpet"
           }
          ],
          "scattergeo": [
           {
            "marker": {
             "colorbar": {
              "outlinewidth": 0,
              "ticks": ""
             }
            },
            "type": "scattergeo"
           }
          ],
          "scattergl": [
           {
            "marker": {
             "colorbar": {
              "outlinewidth": 0,
              "ticks": ""
             }
            },
            "type": "scattergl"
           }
          ],
          "scattermapbox": [
           {
            "marker": {
             "colorbar": {
              "outlinewidth": 0,
              "ticks": ""
             }
            },
            "type": "scattermapbox"
           }
          ],
          "scatterpolar": [
           {
            "marker": {
             "colorbar": {
              "outlinewidth": 0,
              "ticks": ""
             }
            },
            "type": "scatterpolar"
           }
          ],
          "scatterpolargl": [
           {
            "marker": {
             "colorbar": {
              "outlinewidth": 0,
              "ticks": ""
             }
            },
            "type": "scatterpolargl"
           }
          ],
          "scatterternary": [
           {
            "marker": {
             "colorbar": {
              "outlinewidth": 0,
              "ticks": ""
             }
            },
            "type": "scatterternary"
           }
          ],
          "surface": [
           {
            "colorbar": {
             "outlinewidth": 0,
             "ticks": ""
            },
            "colorscale": [
             [
              0,
              "#0d0887"
             ],
             [
              0.1111111111111111,
              "#46039f"
             ],
             [
              0.2222222222222222,
              "#7201a8"
             ],
             [
              0.3333333333333333,
              "#9c179e"
             ],
             [
              0.4444444444444444,
              "#bd3786"
             ],
             [
              0.5555555555555556,
              "#d8576b"
             ],
             [
              0.6666666666666666,
              "#ed7953"
             ],
             [
              0.7777777777777778,
              "#fb9f3a"
             ],
             [
              0.8888888888888888,
              "#fdca26"
             ],
             [
              1,
              "#f0f921"
             ]
            ],
            "type": "surface"
           }
          ],
          "table": [
           {
            "cells": {
             "fill": {
              "color": "#EBF0F8"
             },
             "line": {
              "color": "white"
             }
            },
            "header": {
             "fill": {
              "color": "#C8D4E3"
             },
             "line": {
              "color": "white"
             }
            },
            "type": "table"
           }
          ]
         },
         "layout": {
          "annotationdefaults": {
           "arrowcolor": "#2a3f5f",
           "arrowhead": 0,
           "arrowwidth": 1
          },
          "autotypenumbers": "strict",
          "coloraxis": {
           "colorbar": {
            "outlinewidth": 0,
            "ticks": ""
           }
          },
          "colorscale": {
           "diverging": [
            [
             0,
             "#8e0152"
            ],
            [
             0.1,
             "#c51b7d"
            ],
            [
             0.2,
             "#de77ae"
            ],
            [
             0.3,
             "#f1b6da"
            ],
            [
             0.4,
             "#fde0ef"
            ],
            [
             0.5,
             "#f7f7f7"
            ],
            [
             0.6,
             "#e6f5d0"
            ],
            [
             0.7,
             "#b8e186"
            ],
            [
             0.8,
             "#7fbc41"
            ],
            [
             0.9,
             "#4d9221"
            ],
            [
             1,
             "#276419"
            ]
           ],
           "sequential": [
            [
             0,
             "#0d0887"
            ],
            [
             0.1111111111111111,
             "#46039f"
            ],
            [
             0.2222222222222222,
             "#7201a8"
            ],
            [
             0.3333333333333333,
             "#9c179e"
            ],
            [
             0.4444444444444444,
             "#bd3786"
            ],
            [
             0.5555555555555556,
             "#d8576b"
            ],
            [
             0.6666666666666666,
             "#ed7953"
            ],
            [
             0.7777777777777778,
             "#fb9f3a"
            ],
            [
             0.8888888888888888,
             "#fdca26"
            ],
            [
             1,
             "#f0f921"
            ]
           ],
           "sequentialminus": [
            [
             0,
             "#0d0887"
            ],
            [
             0.1111111111111111,
             "#46039f"
            ],
            [
             0.2222222222222222,
             "#7201a8"
            ],
            [
             0.3333333333333333,
             "#9c179e"
            ],
            [
             0.4444444444444444,
             "#bd3786"
            ],
            [
             0.5555555555555556,
             "#d8576b"
            ],
            [
             0.6666666666666666,
             "#ed7953"
            ],
            [
             0.7777777777777778,
             "#fb9f3a"
            ],
            [
             0.8888888888888888,
             "#fdca26"
            ],
            [
             1,
             "#f0f921"
            ]
           ]
          },
          "colorway": [
           "#636efa",
           "#EF553B",
           "#00cc96",
           "#ab63fa",
           "#FFA15A",
           "#19d3f3",
           "#FF6692",
           "#B6E880",
           "#FF97FF",
           "#FECB52"
          ],
          "font": {
           "color": "#2a3f5f"
          },
          "geo": {
           "bgcolor": "white",
           "lakecolor": "white",
           "landcolor": "#E5ECF6",
           "showlakes": true,
           "showland": true,
           "subunitcolor": "white"
          },
          "hoverlabel": {
           "align": "left"
          },
          "hovermode": "closest",
          "mapbox": {
           "style": "light"
          },
          "paper_bgcolor": "white",
          "plot_bgcolor": "#E5ECF6",
          "polar": {
           "angularaxis": {
            "gridcolor": "white",
            "linecolor": "white",
            "ticks": ""
           },
           "bgcolor": "#E5ECF6",
           "radialaxis": {
            "gridcolor": "white",
            "linecolor": "white",
            "ticks": ""
           }
          },
          "scene": {
           "xaxis": {
            "backgroundcolor": "#E5ECF6",
            "gridcolor": "white",
            "gridwidth": 2,
            "linecolor": "white",
            "showbackground": true,
            "ticks": "",
            "zerolinecolor": "white"
           },
           "yaxis": {
            "backgroundcolor": "#E5ECF6",
            "gridcolor": "white",
            "gridwidth": 2,
            "linecolor": "white",
            "showbackground": true,
            "ticks": "",
            "zerolinecolor": "white"
           },
           "zaxis": {
            "backgroundcolor": "#E5ECF6",
            "gridcolor": "white",
            "gridwidth": 2,
            "linecolor": "white",
            "showbackground": true,
            "ticks": "",
            "zerolinecolor": "white"
           }
          },
          "shapedefaults": {
           "line": {
            "color": "#2a3f5f"
           }
          },
          "ternary": {
           "aaxis": {
            "gridcolor": "white",
            "linecolor": "white",
            "ticks": ""
           },
           "baxis": {
            "gridcolor": "white",
            "linecolor": "white",
            "ticks": ""
           },
           "bgcolor": "#E5ECF6",
           "caxis": {
            "gridcolor": "white",
            "linecolor": "white",
            "ticks": ""
           }
          },
          "title": {
           "x": 0.05
          },
          "xaxis": {
           "automargin": true,
           "gridcolor": "white",
           "linecolor": "white",
           "ticks": "",
           "title": {
            "standoff": 15
           },
           "zerolinecolor": "white",
           "zerolinewidth": 2
          },
          "yaxis": {
           "automargin": true,
           "gridcolor": "white",
           "linecolor": "white",
           "ticks": "",
           "title": {
            "standoff": 15
           },
           "zerolinecolor": "white",
           "zerolinewidth": 2
          }
         }
        },
        "title": {
         "text": "Values by Classes"
        },
        "xaxis": {
         "anchor": "y",
         "domain": [
          0,
          1
         ],
         "title": {
          "text": "Class"
         }
        },
        "yaxis": {
         "anchor": "x",
         "domain": [
          0,
          1
         ],
         "title": {
          "text": "Number of Cases"
         }
        }
       }
      }
     },
     "metadata": {},
     "output_type": "display_data"
    }
   ],
   "source": [
    "# Get unique values and counts for the bar chart\n",
    "values = data['Symbol'].unique()\n",
    "count = data['Symbol'].value_counts().to_list()\n",
    "\n",
    "\n",
    "fig = px.bar( # bar-chart\n",
    "    x=values,\n",
    "    y=count,\n",
    "    title='Values by Classes',\n",
    "    labels={\"x\": \"Class\", \"y\": \"Number of Cases\"} \n",
    ")\n",
    "\n",
    "fig.show()"
   ]
  },
  {
   "cell_type": "markdown",
   "metadata": {},
   "source": [
    "#### **Preprocessing is complete, below is the preview of the new dataset acheived:**\n",
    "\n",
    "[Note: we were asked to not implement any standardization as this can possibly hurt the medical nature of our dataset]"
   ]
  },
  {
   "cell_type": "code",
   "execution_count": 37,
   "metadata": {},
   "outputs": [
    {
     "data": {
      "text/html": [
       "<div>\n",
       "<style scoped>\n",
       "    .dataframe tbody tr th:only-of-type {\n",
       "        vertical-align: middle;\n",
       "    }\n",
       "\n",
       "    .dataframe tbody tr th {\n",
       "        vertical-align: top;\n",
       "    }\n",
       "\n",
       "    .dataframe thead th {\n",
       "        text-align: right;\n",
       "    }\n",
       "</style>\n",
       "<table border=\"1\" class=\"dataframe\">\n",
       "  <thead>\n",
       "    <tr style=\"text-align: right;\">\n",
       "      <th></th>\n",
       "      <th>FNTA</th>\n",
       "      <th>RPL13A</th>\n",
       "      <th>PRKAB2</th>\n",
       "      <th>LMAN1</th>\n",
       "      <th>PLEKHH3</th>\n",
       "      <th>FOXG1</th>\n",
       "      <th>LENEP</th>\n",
       "      <th>PLEKHM1</th>\n",
       "      <th>ZNF331</th>\n",
       "      <th>WASL</th>\n",
       "      <th>...</th>\n",
       "      <th>LEPR</th>\n",
       "      <th>VIPR1</th>\n",
       "      <th>ABCG5</th>\n",
       "      <th>CTBS</th>\n",
       "      <th>PDGFRA</th>\n",
       "      <th>CHST4</th>\n",
       "      <th>ATP5D</th>\n",
       "      <th>DNAJB14</th>\n",
       "      <th>BMP5</th>\n",
       "      <th>Symbol</th>\n",
       "    </tr>\n",
       "  </thead>\n",
       "  <tbody>\n",
       "    <tr>\n",
       "      <th>0</th>\n",
       "      <td>11.297200</td>\n",
       "      <td>14.966000</td>\n",
       "      <td>9.498130</td>\n",
       "      <td>11.731300</td>\n",
       "      <td>8.305770</td>\n",
       "      <td>1.792970</td>\n",
       "      <td>0.896011</td>\n",
       "      <td>8.758000</td>\n",
       "      <td>8.418010</td>\n",
       "      <td>10.680500</td>\n",
       "      <td>...</td>\n",
       "      <td>12.408900</td>\n",
       "      <td>8.841790</td>\n",
       "      <td>12.072300</td>\n",
       "      <td>9.920940</td>\n",
       "      <td>7.784400</td>\n",
       "      <td>7.641680</td>\n",
       "      <td>12.830600</td>\n",
       "      <td>9.134580</td>\n",
       "      <td>7.305270</td>\n",
       "      <td>sl</td>\n",
       "    </tr>\n",
       "    <tr>\n",
       "      <th>1</th>\n",
       "      <td>10.824800</td>\n",
       "      <td>15.117000</td>\n",
       "      <td>9.571150</td>\n",
       "      <td>12.398000</td>\n",
       "      <td>8.823390</td>\n",
       "      <td>1.098990</td>\n",
       "      <td>0.893618</td>\n",
       "      <td>10.087700</td>\n",
       "      <td>8.781200</td>\n",
       "      <td>10.650500</td>\n",
       "      <td>...</td>\n",
       "      <td>12.392500</td>\n",
       "      <td>9.896900</td>\n",
       "      <td>10.825600</td>\n",
       "      <td>9.973580</td>\n",
       "      <td>11.152900</td>\n",
       "      <td>9.628030</td>\n",
       "      <td>13.010900</td>\n",
       "      <td>9.605040</td>\n",
       "      <td>6.587220</td>\n",
       "      <td>sl</td>\n",
       "    </tr>\n",
       "    <tr>\n",
       "      <th>2</th>\n",
       "      <td>10.847800</td>\n",
       "      <td>15.094800</td>\n",
       "      <td>9.205950</td>\n",
       "      <td>12.905100</td>\n",
       "      <td>9.021860</td>\n",
       "      <td>1.319160</td>\n",
       "      <td>1.255240</td>\n",
       "      <td>9.610530</td>\n",
       "      <td>8.872160</td>\n",
       "      <td>10.418000</td>\n",
       "      <td>...</td>\n",
       "      <td>13.242800</td>\n",
       "      <td>9.736940</td>\n",
       "      <td>11.017900</td>\n",
       "      <td>10.080300</td>\n",
       "      <td>10.780300</td>\n",
       "      <td>9.974950</td>\n",
       "      <td>13.633200</td>\n",
       "      <td>9.173220</td>\n",
       "      <td>6.502350</td>\n",
       "      <td>sl</td>\n",
       "    </tr>\n",
       "    <tr>\n",
       "      <th>3</th>\n",
       "      <td>11.285000</td>\n",
       "      <td>14.872900</td>\n",
       "      <td>9.351100</td>\n",
       "      <td>12.919500</td>\n",
       "      <td>8.443840</td>\n",
       "      <td>1.100720</td>\n",
       "      <td>0.894844</td>\n",
       "      <td>10.030300</td>\n",
       "      <td>8.592660</td>\n",
       "      <td>10.404600</td>\n",
       "      <td>...</td>\n",
       "      <td>11.796800</td>\n",
       "      <td>8.841690</td>\n",
       "      <td>11.536800</td>\n",
       "      <td>10.152500</td>\n",
       "      <td>10.192600</td>\n",
       "      <td>8.131270</td>\n",
       "      <td>13.023700</td>\n",
       "      <td>9.565130</td>\n",
       "      <td>6.501770</td>\n",
       "      <td>sl</td>\n",
       "    </tr>\n",
       "    <tr>\n",
       "      <th>4</th>\n",
       "      <td>10.645000</td>\n",
       "      <td>15.358600</td>\n",
       "      <td>9.070840</td>\n",
       "      <td>12.444800</td>\n",
       "      <td>9.259130</td>\n",
       "      <td>1.100160</td>\n",
       "      <td>0.894447</td>\n",
       "      <td>9.695740</td>\n",
       "      <td>9.565850</td>\n",
       "      <td>10.493300</td>\n",
       "      <td>...</td>\n",
       "      <td>11.735800</td>\n",
       "      <td>9.612080</td>\n",
       "      <td>11.527200</td>\n",
       "      <td>9.530410</td>\n",
       "      <td>9.555440</td>\n",
       "      <td>7.438170</td>\n",
       "      <td>13.925600</td>\n",
       "      <td>8.122950</td>\n",
       "      <td>5.065310</td>\n",
       "      <td>sl</td>\n",
       "    </tr>\n",
       "    <tr>\n",
       "      <th>...</th>\n",
       "      <td>...</td>\n",
       "      <td>...</td>\n",
       "      <td>...</td>\n",
       "      <td>...</td>\n",
       "      <td>...</td>\n",
       "      <td>...</td>\n",
       "      <td>...</td>\n",
       "      <td>...</td>\n",
       "      <td>...</td>\n",
       "      <td>...</td>\n",
       "      <td>...</td>\n",
       "      <td>...</td>\n",
       "      <td>...</td>\n",
       "      <td>...</td>\n",
       "      <td>...</td>\n",
       "      <td>...</td>\n",
       "      <td>...</td>\n",
       "      <td>...</td>\n",
       "      <td>...</td>\n",
       "      <td>...</td>\n",
       "      <td>...</td>\n",
       "    </tr>\n",
       "    <tr>\n",
       "      <th>765</th>\n",
       "      <td>10.030643</td>\n",
       "      <td>10.583749</td>\n",
       "      <td>8.462638</td>\n",
       "      <td>6.637312</td>\n",
       "      <td>7.195148</td>\n",
       "      <td>5.885801</td>\n",
       "      <td>5.706954</td>\n",
       "      <td>7.158889</td>\n",
       "      <td>7.005923</td>\n",
       "      <td>10.334260</td>\n",
       "      <td>...</td>\n",
       "      <td>10.352682</td>\n",
       "      <td>10.481065</td>\n",
       "      <td>8.078393</td>\n",
       "      <td>9.370270</td>\n",
       "      <td>9.867904</td>\n",
       "      <td>10.228107</td>\n",
       "      <td>11.749861</td>\n",
       "      <td>7.901930</td>\n",
       "      <td>7.006292</td>\n",
       "      <td>sl</td>\n",
       "    </tr>\n",
       "    <tr>\n",
       "      <th>766</th>\n",
       "      <td>9.308484</td>\n",
       "      <td>9.460258</td>\n",
       "      <td>8.212136</td>\n",
       "      <td>6.179422</td>\n",
       "      <td>7.275672</td>\n",
       "      <td>5.641487</td>\n",
       "      <td>5.902423</td>\n",
       "      <td>7.327063</td>\n",
       "      <td>7.062386</td>\n",
       "      <td>9.907153</td>\n",
       "      <td>...</td>\n",
       "      <td>8.157884</td>\n",
       "      <td>10.154319</td>\n",
       "      <td>8.856472</td>\n",
       "      <td>9.719864</td>\n",
       "      <td>7.500607</td>\n",
       "      <td>6.190256</td>\n",
       "      <td>12.398339</td>\n",
       "      <td>8.159077</td>\n",
       "      <td>5.920143</td>\n",
       "      <td>ehcc</td>\n",
       "    </tr>\n",
       "    <tr>\n",
       "      <th>767</th>\n",
       "      <td>9.780593</td>\n",
       "      <td>10.147125</td>\n",
       "      <td>9.188711</td>\n",
       "      <td>6.602732</td>\n",
       "      <td>7.006846</td>\n",
       "      <td>6.031874</td>\n",
       "      <td>5.711407</td>\n",
       "      <td>7.464194</td>\n",
       "      <td>6.388256</td>\n",
       "      <td>10.064824</td>\n",
       "      <td>...</td>\n",
       "      <td>9.898550</td>\n",
       "      <td>8.987347</td>\n",
       "      <td>9.684653</td>\n",
       "      <td>9.120302</td>\n",
       "      <td>6.932221</td>\n",
       "      <td>6.122836</td>\n",
       "      <td>11.882567</td>\n",
       "      <td>8.048209</td>\n",
       "      <td>6.116673</td>\n",
       "      <td>ehcc</td>\n",
       "    </tr>\n",
       "    <tr>\n",
       "      <th>768</th>\n",
       "      <td>9.818722</td>\n",
       "      <td>9.747493</td>\n",
       "      <td>8.596682</td>\n",
       "      <td>6.701066</td>\n",
       "      <td>7.712645</td>\n",
       "      <td>5.956010</td>\n",
       "      <td>5.893906</td>\n",
       "      <td>7.203791</td>\n",
       "      <td>7.014167</td>\n",
       "      <td>10.614054</td>\n",
       "      <td>...</td>\n",
       "      <td>8.782304</td>\n",
       "      <td>9.409681</td>\n",
       "      <td>8.287098</td>\n",
       "      <td>9.899270</td>\n",
       "      <td>7.671989</td>\n",
       "      <td>6.321199</td>\n",
       "      <td>11.999193</td>\n",
       "      <td>7.937260</td>\n",
       "      <td>6.201666</td>\n",
       "      <td>ehcc</td>\n",
       "    </tr>\n",
       "    <tr>\n",
       "      <th>769</th>\n",
       "      <td>10.090040</td>\n",
       "      <td>11.310322</td>\n",
       "      <td>7.940806</td>\n",
       "      <td>6.454721</td>\n",
       "      <td>7.501669</td>\n",
       "      <td>5.878988</td>\n",
       "      <td>5.955920</td>\n",
       "      <td>7.035160</td>\n",
       "      <td>8.929936</td>\n",
       "      <td>10.137926</td>\n",
       "      <td>...</td>\n",
       "      <td>9.253414</td>\n",
       "      <td>10.622509</td>\n",
       "      <td>6.834667</td>\n",
       "      <td>8.960917</td>\n",
       "      <td>10.388683</td>\n",
       "      <td>11.311672</td>\n",
       "      <td>11.752001</td>\n",
       "      <td>7.680011</td>\n",
       "      <td>6.927864</td>\n",
       "      <td>sl</td>\n",
       "    </tr>\n",
       "  </tbody>\n",
       "</table>\n",
       "<p>770 rows × 501 columns</p>\n",
       "</div>"
      ],
      "text/plain": [
       "          FNTA     RPL13A    PRKAB2      LMAN1   PLEKHH3     FOXG1     LENEP  \\\n",
       "0    11.297200  14.966000  9.498130  11.731300  8.305770  1.792970  0.896011   \n",
       "1    10.824800  15.117000  9.571150  12.398000  8.823390  1.098990  0.893618   \n",
       "2    10.847800  15.094800  9.205950  12.905100  9.021860  1.319160  1.255240   \n",
       "3    11.285000  14.872900  9.351100  12.919500  8.443840  1.100720  0.894844   \n",
       "4    10.645000  15.358600  9.070840  12.444800  9.259130  1.100160  0.894447   \n",
       "..         ...        ...       ...        ...       ...       ...       ...   \n",
       "765  10.030643  10.583749  8.462638   6.637312  7.195148  5.885801  5.706954   \n",
       "766   9.308484   9.460258  8.212136   6.179422  7.275672  5.641487  5.902423   \n",
       "767   9.780593  10.147125  9.188711   6.602732  7.006846  6.031874  5.711407   \n",
       "768   9.818722   9.747493  8.596682   6.701066  7.712645  5.956010  5.893906   \n",
       "769  10.090040  11.310322  7.940806   6.454721  7.501669  5.878988  5.955920   \n",
       "\n",
       "       PLEKHM1    ZNF331       WASL  ...       LEPR      VIPR1      ABCG5  \\\n",
       "0     8.758000  8.418010  10.680500  ...  12.408900   8.841790  12.072300   \n",
       "1    10.087700  8.781200  10.650500  ...  12.392500   9.896900  10.825600   \n",
       "2     9.610530  8.872160  10.418000  ...  13.242800   9.736940  11.017900   \n",
       "3    10.030300  8.592660  10.404600  ...  11.796800   8.841690  11.536800   \n",
       "4     9.695740  9.565850  10.493300  ...  11.735800   9.612080  11.527200   \n",
       "..         ...       ...        ...  ...        ...        ...        ...   \n",
       "765   7.158889  7.005923  10.334260  ...  10.352682  10.481065   8.078393   \n",
       "766   7.327063  7.062386   9.907153  ...   8.157884  10.154319   8.856472   \n",
       "767   7.464194  6.388256  10.064824  ...   9.898550   8.987347   9.684653   \n",
       "768   7.203791  7.014167  10.614054  ...   8.782304   9.409681   8.287098   \n",
       "769   7.035160  8.929936  10.137926  ...   9.253414  10.622509   6.834667   \n",
       "\n",
       "          CTBS     PDGFRA      CHST4      ATP5D   DNAJB14      BMP5  Symbol  \n",
       "0     9.920940   7.784400   7.641680  12.830600  9.134580  7.305270      sl  \n",
       "1     9.973580  11.152900   9.628030  13.010900  9.605040  6.587220      sl  \n",
       "2    10.080300  10.780300   9.974950  13.633200  9.173220  6.502350      sl  \n",
       "3    10.152500  10.192600   8.131270  13.023700  9.565130  6.501770      sl  \n",
       "4     9.530410   9.555440   7.438170  13.925600  8.122950  5.065310      sl  \n",
       "..         ...        ...        ...        ...       ...       ...     ...  \n",
       "765   9.370270   9.867904  10.228107  11.749861  7.901930  7.006292      sl  \n",
       "766   9.719864   7.500607   6.190256  12.398339  8.159077  5.920143    ehcc  \n",
       "767   9.120302   6.932221   6.122836  11.882567  8.048209  6.116673    ehcc  \n",
       "768   9.899270   7.671989   6.321199  11.999193  7.937260  6.201666    ehcc  \n",
       "769   8.960917  10.388683  11.311672  11.752001  7.680011  6.927864      sl  \n",
       "\n",
       "[770 rows x 501 columns]"
      ]
     },
     "execution_count": 37,
     "metadata": {},
     "output_type": "execute_result"
    }
   ],
   "source": [
    "data"
   ]
  },
  {
   "cell_type": "markdown",
   "metadata": {},
   "source": [
    "### <u>**Splitting Features and Targets**</u>"
   ]
  },
  {
   "cell_type": "code",
   "execution_count": 38,
   "metadata": {},
   "outputs": [
    {
     "data": {
      "text/html": [
       "<div>\n",
       "<style scoped>\n",
       "    .dataframe tbody tr th:only-of-type {\n",
       "        vertical-align: middle;\n",
       "    }\n",
       "\n",
       "    .dataframe tbody tr th {\n",
       "        vertical-align: top;\n",
       "    }\n",
       "\n",
       "    .dataframe thead th {\n",
       "        text-align: right;\n",
       "    }\n",
       "</style>\n",
       "<table border=\"1\" class=\"dataframe\">\n",
       "  <thead>\n",
       "    <tr style=\"text-align: right;\">\n",
       "      <th></th>\n",
       "      <th>FNTA</th>\n",
       "      <th>RPL13A</th>\n",
       "      <th>PRKAB2</th>\n",
       "      <th>LMAN1</th>\n",
       "      <th>PLEKHH3</th>\n",
       "      <th>FOXG1</th>\n",
       "      <th>LENEP</th>\n",
       "      <th>PLEKHM1</th>\n",
       "      <th>ZNF331</th>\n",
       "      <th>WASL</th>\n",
       "      <th>...</th>\n",
       "      <th>TSPAN7</th>\n",
       "      <th>LEPR</th>\n",
       "      <th>VIPR1</th>\n",
       "      <th>ABCG5</th>\n",
       "      <th>CTBS</th>\n",
       "      <th>PDGFRA</th>\n",
       "      <th>CHST4</th>\n",
       "      <th>ATP5D</th>\n",
       "      <th>DNAJB14</th>\n",
       "      <th>BMP5</th>\n",
       "    </tr>\n",
       "  </thead>\n",
       "  <tbody>\n",
       "    <tr>\n",
       "      <th>0</th>\n",
       "      <td>11.297200</td>\n",
       "      <td>14.966000</td>\n",
       "      <td>9.498130</td>\n",
       "      <td>11.731300</td>\n",
       "      <td>8.305770</td>\n",
       "      <td>1.792970</td>\n",
       "      <td>0.896011</td>\n",
       "      <td>8.758000</td>\n",
       "      <td>8.418010</td>\n",
       "      <td>10.680500</td>\n",
       "      <td>...</td>\n",
       "      <td>6.835670</td>\n",
       "      <td>12.408900</td>\n",
       "      <td>8.841790</td>\n",
       "      <td>12.072300</td>\n",
       "      <td>9.920940</td>\n",
       "      <td>7.784400</td>\n",
       "      <td>7.641680</td>\n",
       "      <td>12.830600</td>\n",
       "      <td>9.134580</td>\n",
       "      <td>7.305270</td>\n",
       "    </tr>\n",
       "    <tr>\n",
       "      <th>1</th>\n",
       "      <td>10.824800</td>\n",
       "      <td>15.117000</td>\n",
       "      <td>9.571150</td>\n",
       "      <td>12.398000</td>\n",
       "      <td>8.823390</td>\n",
       "      <td>1.098990</td>\n",
       "      <td>0.893618</td>\n",
       "      <td>10.087700</td>\n",
       "      <td>8.781200</td>\n",
       "      <td>10.650500</td>\n",
       "      <td>...</td>\n",
       "      <td>8.151800</td>\n",
       "      <td>12.392500</td>\n",
       "      <td>9.896900</td>\n",
       "      <td>10.825600</td>\n",
       "      <td>9.973580</td>\n",
       "      <td>11.152900</td>\n",
       "      <td>9.628030</td>\n",
       "      <td>13.010900</td>\n",
       "      <td>9.605040</td>\n",
       "      <td>6.587220</td>\n",
       "    </tr>\n",
       "    <tr>\n",
       "      <th>2</th>\n",
       "      <td>10.847800</td>\n",
       "      <td>15.094800</td>\n",
       "      <td>9.205950</td>\n",
       "      <td>12.905100</td>\n",
       "      <td>9.021860</td>\n",
       "      <td>1.319160</td>\n",
       "      <td>1.255240</td>\n",
       "      <td>9.610530</td>\n",
       "      <td>8.872160</td>\n",
       "      <td>10.418000</td>\n",
       "      <td>...</td>\n",
       "      <td>8.036000</td>\n",
       "      <td>13.242800</td>\n",
       "      <td>9.736940</td>\n",
       "      <td>11.017900</td>\n",
       "      <td>10.080300</td>\n",
       "      <td>10.780300</td>\n",
       "      <td>9.974950</td>\n",
       "      <td>13.633200</td>\n",
       "      <td>9.173220</td>\n",
       "      <td>6.502350</td>\n",
       "    </tr>\n",
       "    <tr>\n",
       "      <th>3</th>\n",
       "      <td>11.285000</td>\n",
       "      <td>14.872900</td>\n",
       "      <td>9.351100</td>\n",
       "      <td>12.919500</td>\n",
       "      <td>8.443840</td>\n",
       "      <td>1.100720</td>\n",
       "      <td>0.894844</td>\n",
       "      <td>10.030300</td>\n",
       "      <td>8.592660</td>\n",
       "      <td>10.404600</td>\n",
       "      <td>...</td>\n",
       "      <td>7.325690</td>\n",
       "      <td>11.796800</td>\n",
       "      <td>8.841690</td>\n",
       "      <td>11.536800</td>\n",
       "      <td>10.152500</td>\n",
       "      <td>10.192600</td>\n",
       "      <td>8.131270</td>\n",
       "      <td>13.023700</td>\n",
       "      <td>9.565130</td>\n",
       "      <td>6.501770</td>\n",
       "    </tr>\n",
       "    <tr>\n",
       "      <th>4</th>\n",
       "      <td>10.645000</td>\n",
       "      <td>15.358600</td>\n",
       "      <td>9.070840</td>\n",
       "      <td>12.444800</td>\n",
       "      <td>9.259130</td>\n",
       "      <td>1.100160</td>\n",
       "      <td>0.894447</td>\n",
       "      <td>9.695740</td>\n",
       "      <td>9.565850</td>\n",
       "      <td>10.493300</td>\n",
       "      <td>...</td>\n",
       "      <td>8.351560</td>\n",
       "      <td>11.735800</td>\n",
       "      <td>9.612080</td>\n",
       "      <td>11.527200</td>\n",
       "      <td>9.530410</td>\n",
       "      <td>9.555440</td>\n",
       "      <td>7.438170</td>\n",
       "      <td>13.925600</td>\n",
       "      <td>8.122950</td>\n",
       "      <td>5.065310</td>\n",
       "    </tr>\n",
       "    <tr>\n",
       "      <th>...</th>\n",
       "      <td>...</td>\n",
       "      <td>...</td>\n",
       "      <td>...</td>\n",
       "      <td>...</td>\n",
       "      <td>...</td>\n",
       "      <td>...</td>\n",
       "      <td>...</td>\n",
       "      <td>...</td>\n",
       "      <td>...</td>\n",
       "      <td>...</td>\n",
       "      <td>...</td>\n",
       "      <td>...</td>\n",
       "      <td>...</td>\n",
       "      <td>...</td>\n",
       "      <td>...</td>\n",
       "      <td>...</td>\n",
       "      <td>...</td>\n",
       "      <td>...</td>\n",
       "      <td>...</td>\n",
       "      <td>...</td>\n",
       "      <td>...</td>\n",
       "    </tr>\n",
       "    <tr>\n",
       "      <th>765</th>\n",
       "      <td>10.030643</td>\n",
       "      <td>10.583749</td>\n",
       "      <td>8.462638</td>\n",
       "      <td>6.637312</td>\n",
       "      <td>7.195148</td>\n",
       "      <td>5.885801</td>\n",
       "      <td>5.706954</td>\n",
       "      <td>7.158889</td>\n",
       "      <td>7.005923</td>\n",
       "      <td>10.334260</td>\n",
       "      <td>...</td>\n",
       "      <td>7.900075</td>\n",
       "      <td>10.352682</td>\n",
       "      <td>10.481065</td>\n",
       "      <td>8.078393</td>\n",
       "      <td>9.370270</td>\n",
       "      <td>9.867904</td>\n",
       "      <td>10.228107</td>\n",
       "      <td>11.749861</td>\n",
       "      <td>7.901930</td>\n",
       "      <td>7.006292</td>\n",
       "    </tr>\n",
       "    <tr>\n",
       "      <th>766</th>\n",
       "      <td>9.308484</td>\n",
       "      <td>9.460258</td>\n",
       "      <td>8.212136</td>\n",
       "      <td>6.179422</td>\n",
       "      <td>7.275672</td>\n",
       "      <td>5.641487</td>\n",
       "      <td>5.902423</td>\n",
       "      <td>7.327063</td>\n",
       "      <td>7.062386</td>\n",
       "      <td>9.907153</td>\n",
       "      <td>...</td>\n",
       "      <td>8.039006</td>\n",
       "      <td>8.157884</td>\n",
       "      <td>10.154319</td>\n",
       "      <td>8.856472</td>\n",
       "      <td>9.719864</td>\n",
       "      <td>7.500607</td>\n",
       "      <td>6.190256</td>\n",
       "      <td>12.398339</td>\n",
       "      <td>8.159077</td>\n",
       "      <td>5.920143</td>\n",
       "    </tr>\n",
       "    <tr>\n",
       "      <th>767</th>\n",
       "      <td>9.780593</td>\n",
       "      <td>10.147125</td>\n",
       "      <td>9.188711</td>\n",
       "      <td>6.602732</td>\n",
       "      <td>7.006846</td>\n",
       "      <td>6.031874</td>\n",
       "      <td>5.711407</td>\n",
       "      <td>7.464194</td>\n",
       "      <td>6.388256</td>\n",
       "      <td>10.064824</td>\n",
       "      <td>...</td>\n",
       "      <td>8.097711</td>\n",
       "      <td>9.898550</td>\n",
       "      <td>8.987347</td>\n",
       "      <td>9.684653</td>\n",
       "      <td>9.120302</td>\n",
       "      <td>6.932221</td>\n",
       "      <td>6.122836</td>\n",
       "      <td>11.882567</td>\n",
       "      <td>8.048209</td>\n",
       "      <td>6.116673</td>\n",
       "    </tr>\n",
       "    <tr>\n",
       "      <th>768</th>\n",
       "      <td>9.818722</td>\n",
       "      <td>9.747493</td>\n",
       "      <td>8.596682</td>\n",
       "      <td>6.701066</td>\n",
       "      <td>7.712645</td>\n",
       "      <td>5.956010</td>\n",
       "      <td>5.893906</td>\n",
       "      <td>7.203791</td>\n",
       "      <td>7.014167</td>\n",
       "      <td>10.614054</td>\n",
       "      <td>...</td>\n",
       "      <td>8.319582</td>\n",
       "      <td>8.782304</td>\n",
       "      <td>9.409681</td>\n",
       "      <td>8.287098</td>\n",
       "      <td>9.899270</td>\n",
       "      <td>7.671989</td>\n",
       "      <td>6.321199</td>\n",
       "      <td>11.999193</td>\n",
       "      <td>7.937260</td>\n",
       "      <td>6.201666</td>\n",
       "    </tr>\n",
       "    <tr>\n",
       "      <th>769</th>\n",
       "      <td>10.090040</td>\n",
       "      <td>11.310322</td>\n",
       "      <td>7.940806</td>\n",
       "      <td>6.454721</td>\n",
       "      <td>7.501669</td>\n",
       "      <td>5.878988</td>\n",
       "      <td>5.955920</td>\n",
       "      <td>7.035160</td>\n",
       "      <td>8.929936</td>\n",
       "      <td>10.137926</td>\n",
       "      <td>...</td>\n",
       "      <td>7.940507</td>\n",
       "      <td>9.253414</td>\n",
       "      <td>10.622509</td>\n",
       "      <td>6.834667</td>\n",
       "      <td>8.960917</td>\n",
       "      <td>10.388683</td>\n",
       "      <td>11.311672</td>\n",
       "      <td>11.752001</td>\n",
       "      <td>7.680011</td>\n",
       "      <td>6.927864</td>\n",
       "    </tr>\n",
       "  </tbody>\n",
       "</table>\n",
       "<p>770 rows × 500 columns</p>\n",
       "</div>"
      ],
      "text/plain": [
       "          FNTA     RPL13A    PRKAB2      LMAN1   PLEKHH3     FOXG1     LENEP  \\\n",
       "0    11.297200  14.966000  9.498130  11.731300  8.305770  1.792970  0.896011   \n",
       "1    10.824800  15.117000  9.571150  12.398000  8.823390  1.098990  0.893618   \n",
       "2    10.847800  15.094800  9.205950  12.905100  9.021860  1.319160  1.255240   \n",
       "3    11.285000  14.872900  9.351100  12.919500  8.443840  1.100720  0.894844   \n",
       "4    10.645000  15.358600  9.070840  12.444800  9.259130  1.100160  0.894447   \n",
       "..         ...        ...       ...        ...       ...       ...       ...   \n",
       "765  10.030643  10.583749  8.462638   6.637312  7.195148  5.885801  5.706954   \n",
       "766   9.308484   9.460258  8.212136   6.179422  7.275672  5.641487  5.902423   \n",
       "767   9.780593  10.147125  9.188711   6.602732  7.006846  6.031874  5.711407   \n",
       "768   9.818722   9.747493  8.596682   6.701066  7.712645  5.956010  5.893906   \n",
       "769  10.090040  11.310322  7.940806   6.454721  7.501669  5.878988  5.955920   \n",
       "\n",
       "       PLEKHM1    ZNF331       WASL  ...    TSPAN7       LEPR      VIPR1  \\\n",
       "0     8.758000  8.418010  10.680500  ...  6.835670  12.408900   8.841790   \n",
       "1    10.087700  8.781200  10.650500  ...  8.151800  12.392500   9.896900   \n",
       "2     9.610530  8.872160  10.418000  ...  8.036000  13.242800   9.736940   \n",
       "3    10.030300  8.592660  10.404600  ...  7.325690  11.796800   8.841690   \n",
       "4     9.695740  9.565850  10.493300  ...  8.351560  11.735800   9.612080   \n",
       "..         ...       ...        ...  ...       ...        ...        ...   \n",
       "765   7.158889  7.005923  10.334260  ...  7.900075  10.352682  10.481065   \n",
       "766   7.327063  7.062386   9.907153  ...  8.039006   8.157884  10.154319   \n",
       "767   7.464194  6.388256  10.064824  ...  8.097711   9.898550   8.987347   \n",
       "768   7.203791  7.014167  10.614054  ...  8.319582   8.782304   9.409681   \n",
       "769   7.035160  8.929936  10.137926  ...  7.940507   9.253414  10.622509   \n",
       "\n",
       "         ABCG5       CTBS     PDGFRA      CHST4      ATP5D   DNAJB14      BMP5  \n",
       "0    12.072300   9.920940   7.784400   7.641680  12.830600  9.134580  7.305270  \n",
       "1    10.825600   9.973580  11.152900   9.628030  13.010900  9.605040  6.587220  \n",
       "2    11.017900  10.080300  10.780300   9.974950  13.633200  9.173220  6.502350  \n",
       "3    11.536800  10.152500  10.192600   8.131270  13.023700  9.565130  6.501770  \n",
       "4    11.527200   9.530410   9.555440   7.438170  13.925600  8.122950  5.065310  \n",
       "..         ...        ...        ...        ...        ...       ...       ...  \n",
       "765   8.078393   9.370270   9.867904  10.228107  11.749861  7.901930  7.006292  \n",
       "766   8.856472   9.719864   7.500607   6.190256  12.398339  8.159077  5.920143  \n",
       "767   9.684653   9.120302   6.932221   6.122836  11.882567  8.048209  6.116673  \n",
       "768   8.287098   9.899270   7.671989   6.321199  11.999193  7.937260  6.201666  \n",
       "769   6.834667   8.960917  10.388683  11.311672  11.752001  7.680011  6.927864  \n",
       "\n",
       "[770 rows x 500 columns]"
      ]
     },
     "execution_count": 38,
     "metadata": {},
     "output_type": "execute_result"
    }
   ],
   "source": [
    "data_predictors = data.drop(columns=[\"Symbol\"])\n",
    "predictor_names = data_predictors.columns\n",
    "\n",
    "data_predictors"
   ]
  },
  {
   "cell_type": "code",
   "execution_count": 39,
   "metadata": {},
   "outputs": [
    {
     "data": {
      "text/plain": [
       "Index(['FNTA', 'RPL13A', 'PRKAB2', 'LMAN1', 'PLEKHH3', 'FOXG1', 'LENEP',\n",
       "       'PLEKHM1', 'ZNF331', 'WASL',\n",
       "       ...\n",
       "       'TSPAN7', 'LEPR', 'VIPR1', 'ABCG5', 'CTBS', 'PDGFRA', 'CHST4', 'ATP5D',\n",
       "       'DNAJB14', 'BMP5'],\n",
       "      dtype='object', length=500)"
      ]
     },
     "execution_count": 39,
     "metadata": {},
     "output_type": "execute_result"
    }
   ],
   "source": [
    "predictor_names"
   ]
  },
  {
   "cell_type": "markdown",
   "metadata": {},
   "source": [
    "##### **Split the dataset into 70% training data and 30% testing data.**"
   ]
  },
  {
   "cell_type": "code",
   "execution_count": 40,
   "metadata": {},
   "outputs": [],
   "source": [
    "x_train, x_test, y_train, y_test = train_test_split(data_predictors, target, test_size=0.3, random_state=0)"
   ]
  },
  {
   "cell_type": "markdown",
   "metadata": {},
   "source": [
    "### <u>**Optimized `RandomForestClassifier` with `PSO` Optimization From The Senior Group**</u>\n",
    "#### The model is non-deterministic, so output changes with each run."
   ]
  },
  {
   "cell_type": "code",
   "execution_count": 41,
   "metadata": {},
   "outputs": [
    {
     "name": "stdout",
     "output_type": "stream",
     "text": [
      "Iteration 1/10, Best Score: 0.9481\n",
      "Iteration 2/10, Best Score: 0.9481\n",
      "Iteration 3/10, Best Score: 0.9481\n",
      "Iteration 4/10, Best Score: 0.9481\n",
      "Iteration 5/10, Best Score: 0.9481\n",
      "Iteration 6/10, Best Score: 0.9481\n",
      "Iteration 7/10, Best Score: 0.9481\n",
      "Iteration 8/10, Best Score: 0.9481\n",
      "Iteration 9/10, Best Score: 0.9481\n",
      "Iteration 10/10, Best Score: 0.9481\n",
      "Top 5 features:\n",
      "1. DNAJB14\n",
      "2. FGF23\n",
      "3. ZBTB43\n",
      "4. BMP5\n",
      "5. ANKRD36\n",
      "6. SMARCD2\n",
      "7. WT1\n",
      "8. CAMK2G\n",
      "9. PPID\n",
      "10. IGLL1\n",
      "11. RHOT2\n",
      "12. PTTG1\n",
      "13. EP300\n",
      "14. IL1RL1\n",
      "15. ZNF148\n",
      "Accuracy with the top 5 feature subset: 0.9264\n"
     ]
    }
   ],
   "source": [
    "# Train model function\n",
    "def train_model(x_train, x_test, y_train, y_test, feature_names):\n",
    "    x_train = x_train[feature_names]\n",
    "    x_test = x_test[feature_names]\n",
    "    \n",
    "    mdl = RandomForestClassifier(random_state=1)\n",
    "    mdl.fit(x_train, y_train)\n",
    "    y_hat = mdl.predict(x_test)\n",
    "    accuracy = accuracy_score(y_test, y_hat)\n",
    "    return accuracy\n",
    "\n",
    "# Feature selection fitness\n",
    "def feature_selection_fitness(features):\n",
    "    features = [int(x) for x in features]\n",
    "    selected_features = [i for i, x in enumerate(features) if x == 1]\n",
    "    \n",
    "    if not selected_features:  # Avoid empty feature set\n",
    "        return 0\n",
    "    \n",
    "    feature_names = predictor_names[selected_features]\n",
    "    accuracy = train_model(x_train, x_test, y_train, y_test, feature_names)\n",
    "    return -accuracy  # PSO minimizes the fitness function\n",
    "\n",
    "# PSO parameters\n",
    "num_features = data_predictors.shape[1]\n",
    "swarm_size = 10\n",
    "max_iter = 10\n",
    "inertia = 0.72984\n",
    "c1 = 2.05\n",
    "c2 = 2.05\n",
    "lb = np.zeros(num_features)\n",
    "ub = np.ones(num_features)\n",
    "\n",
    "# Initialize particles\n",
    "particles = np.random.randint(2, size=(swarm_size, num_features))  # Binary initialization\n",
    "velocities = np.random.uniform(size=(swarm_size, num_features))\n",
    "pbest_positions = particles.copy()\n",
    "pbest_scores = np.array([feature_selection_fitness(p) for p in particles])\n",
    "gbest_position = pbest_positions[pbest_scores.argmin()]\n",
    "gbest_score = pbest_scores.min()\n",
    "\n",
    "# PSO algorithm\n",
    "for iteration in range(max_iter):\n",
    "    r1 = np.random.uniform(size=(swarm_size, num_features))\n",
    "    r2 = np.random.uniform(size=(swarm_size, num_features))\n",
    "    velocities = (inertia * velocities + \n",
    "                  c1 * r1 * (pbest_positions - particles) + \n",
    "                  c2 * r2 * (gbest_position - particles))\n",
    "    particles = particles + velocities\n",
    "    particles = np.clip(particles, lb, ub).astype(int)  # Convert to binary\n",
    "\n",
    "    # Evaluate fitness\n",
    "    scores = np.array([feature_selection_fitness(p) for p in particles])\n",
    "\n",
    "    # Update personal bests\n",
    "    better_idx = scores < pbest_scores\n",
    "    pbest_positions[better_idx] = particles[better_idx]\n",
    "    pbest_scores[better_idx] = scores[better_idx]\n",
    "\n",
    "    # Update global best\n",
    "    if scores.min() < gbest_score:\n",
    "        gbest_position = particles[scores.argmin()]\n",
    "        gbest_score = scores.min()\n",
    "\n",
    "    print(f\"Iteration {iteration+1}/{max_iter}, Best Score: {-gbest_score:.4f}\")\n",
    "\n",
    "best_features = np.where(gbest_position == 1)[0]\n",
    "\n",
    "# Select top features\n",
    "def select_top_features(x_train, x_test, y_train, y_test, feature_names):\n",
    "    x_train_subset = x_train[feature_names]\n",
    "    x_test_subset = x_test[feature_names]\n",
    "\n",
    "    mdl = RandomForestClassifier(random_state=1)\n",
    "    mdl.fit(x_train_subset, y_train)\n",
    "\n",
    "    importances = mdl.feature_importances_\n",
    "    feature_importances = dict(zip(feature_names, importances))\n",
    "\n",
    "    top_features = sorted(feature_importances, key=feature_importances.get, reverse=True)[:15]\n",
    "    return top_features\n",
    "\n",
    "selected_feature_names = predictor_names[best_features]\n",
    "top_features = select_top_features(x_train, x_test, y_train, y_test, selected_feature_names)\n",
    "\n",
    "# Print the results\n",
    "print(\"Top 5 features:\")\n",
    "for i, feature in enumerate(top_features, start=1):\n",
    "    print(f\"{i}. {feature}\")\n",
    "\n",
    "# Train and evaluate the model with the top 5 features\n",
    "def evaluate_best_features(x_train, x_test, y_train, y_test, top_features):\n",
    "    x_train_best = x_train.loc[:, top_features]\n",
    "    x_test_best = x_test.loc[:, top_features]\n",
    "\n",
    "    mdl = RandomForestClassifier(random_state=1)\n",
    "    mdl.fit(x_train_best, y_train)\n",
    "    y_hat = mdl.predict(x_test_best)\n",
    "\n",
    "    accuracy = accuracy_score(y_test, y_hat)\n",
    "    return accuracy\n",
    "\n",
    "best_accuracy = evaluate_best_features(x_train, x_test, y_train, y_test, top_features)\n",
    "\n",
    "\n",
    "\n",
    "print(f\"Accuracy with the top 5 feature subset: {best_accuracy:.4f}\")"
   ]
  },
  {
   "cell_type": "markdown",
   "metadata": {},
   "source": [
    "#### **A different version of the last function is needed in order to use to save the final model into a variable as follows:**"
   ]
  },
  {
   "cell_type": "code",
   "execution_count": 42,
   "metadata": {},
   "outputs": [],
   "source": [
    "def saveModel(x_train, x_test, y_train, y_test, top_features):\n",
    "    x_train_best = x_train.loc[:, top_features]\n",
    "    x_test_best = x_test.loc[:, top_features]\n",
    "\n",
    "    mdl = RandomForestClassifier(random_state=1)\n",
    "    mdl.fit(x_train_best, y_train)\n",
    "    y_hat = mdl.predict(x_test_best)\n",
    "\n",
    "    accuracy = accuracy_score(y_test, y_hat)\n",
    "    return mdl, accuracy, x_train_best, x_test_best  # now returns all needed components and we can save the final model."
   ]
  },
  {
   "cell_type": "markdown",
   "metadata": {},
   "source": [
    "#### **Save the final model in the `final_model` variable**"
   ]
  },
  {
   "cell_type": "code",
   "execution_count": 43,
   "metadata": {},
   "outputs": [],
   "source": [
    "#! Save final model and data\n",
    "final_model, best_accuracy, X_final, X_test_final = saveModel(\n",
    "    x_train, x_test, y_train, y_test, top_features\n",
    ")"
   ]
  },
  {
   "cell_type": "markdown",
   "metadata": {},
   "source": [
    "### <u>**Implementation of SHAP**</u>\n",
    "\n",
    "##### **Shapley Value Equation:**\n",
    "$$\\Phi_i = \\sum_{T \\subseteq K \\setminus \\{i\\}} \\frac{|T|!(Q - |T| - 1)!}{Q!} [F_X(T \\cup \\{i\\}) - F_X(T)]$$\n",
    "\n",
    "##### **It’s important to note that primary effect influencing the prediction outcome is the disparity between the Shapely values and the sum of SHAP interaction values for a given feature**\n",
    "$$\\Phi_{i,j} = \\Phi_i - \\sum_{j \\neq i} \\Phi_{i,j}$$\n",
    "\n",
    "Note that:\n",
    "* $T$: Subset of features excluding the $i^{th}$ feature\n",
    "* $Q$: Total number of features\n",
    "* $|T|$: Size of the subset $T$\n",
    "* $F_X(T)$: Prediction function based on the subset $T$\n",
    "* $F_X(T \\cup \\{i\\})$: Prediction function for the subset $T$ combined with the $i^{th}$ feature\n",
    "* $|T|!$: Accounts for all possible permutations of features in subset $T$ before the $i^{th}$ feature\n",
    "* $(Q - |T| - 1)!$: Represents the permutations of the features after the $i^{th}$ feature\n",
    "* $Q!$: Total permutations of all features\n",
    "* Marginal Contribution $F_X(T \\cup \\{i\\}) - F_X(T)$: The difference in prediction when the $i^{th}$ feature is added to the subset $T$, quantifying its contribution"
   ]
  },
  {
   "cell_type": "code",
   "execution_count": 44,
   "metadata": {},
   "outputs": [
    {
     "data": {
      "image/png": "[encoded data removed]",
      "text/plain": [
       "<Figure size 1150x660 with 5 Axes>"
      ]
     },
     "metadata": {},
     "output_type": "display_data"
    }
   ],
   "source": [
    "explainer = shap.TreeExplainer(final_model)\n",
    "shap_values = explainer.shap_values(X_test_final)\n",
    "shap.summary_plot(shap_values, X_test_final)"
   ]
  },
  {
   "cell_type": "code",
   "execution_count": 45,
   "metadata": {},
   "outputs": [],
   "source": [
    "def shap_values_to_list(shap_values, model):\n",
    "    shap_as_list=[]\n",
    "    for i in range(len(model.classes_)):\n",
    "        shap_as_list.append(shap_values[:,:,i])\n",
    "    return shap_as_list"
   ]
  },
  {
   "cell_type": "code",
   "execution_count": 46,
   "metadata": {},
   "outputs": [],
   "source": [
    "class_names = (\"sl\", \"hgdn\", \"lgdn\", \"ehcc\", \"phcc\")"
   ]
  },
  {
   "cell_type": "code",
   "execution_count": 47,
   "metadata": {},
   "outputs": [
    {
     "data": {
      "image/png": "[encoded data removed]",
      "text/plain": [
       "<Figure size 800x750 with 1 Axes>"
      ]
     },
     "metadata": {},
     "output_type": "display_data"
    }
   ],
   "source": [
    "shap_as_list = shap_values_to_list(shap_values, final_model)\n",
    "shap.summary_plot(shap_as_list, X_test_final, class_names=class_names)"
   ]
  },
  {
   "cell_type": "markdown",
   "metadata": {},
   "source": [
    "##### <u> **Variable Importance Plot** </u>\n",
    "##### - Highlights the most and least influential features in the model.\n",
    "##### - SHAP values quantify the impact of each feature by showing how the prediction changes when a feature assumes specific values.\n"
   ]
  },
  {
   "cell_type": "code",
   "execution_count": 48,
   "metadata": {},
   "outputs": [
    {
     "name": "stdout",
     "output_type": "stream",
     "text": [
      "Data shape: (231, 15)\n"
     ]
    },
    {
     "data": {
      "text/plain": [
       "(231, 15, 5)"
      ]
     },
     "execution_count": 48,
     "metadata": {},
     "output_type": "execute_result"
    }
   ],
   "source": [
    "# Verify shapes\n",
    "print(f\"Data shape: {X_test_final.shape}\")\n",
    "shap_values.shape"
   ]
  },
  {
   "cell_type": "markdown",
   "metadata": {},
   "source": [
    "#### The shapes should be equal for the experiments to work."
   ]
  },
  {
   "cell_type": "markdown",
   "metadata": {},
   "source": [
    "#### **Calculate the mean absolute SHAP values then sort them depending on shap values and importances for proper graphing**"
   ]
  },
  {
   "cell_type": "code",
   "execution_count": 49,
   "metadata": {},
   "outputs": [
    {
     "name": "stdout",
     "output_type": "stream",
     "text": [
      "Mean SHAP shape: (231, 5)\n"
     ]
    }
   ],
   "source": [
    "# Calculate mean absolute SHAP values\n",
    "mean_shap = np.abs(np.array(shap_values)).mean(axis=1)  # Shape: (number of classes, number of features)\n",
    "print(f\"Mean SHAP shape: {mean_shap.shape}\")\n",
    "\n",
    "# Sort features by total importance\n",
    "total_importance = mean_shap.sum(axis=0)  \n",
    "sorted_idx = np.argsort(total_importance)[::-1]  \n",
    "sorted_features = X_test_final.columns[sorted_idx]  "
   ]
  },
  {
   "cell_type": "markdown",
   "metadata": {},
   "source": [
    "#### **Dynamically allocate each label and a color for the graph, to ensure we copy each class data correctly**"
   ]
  },
  {
   "cell_type": "code",
   "execution_count": 50,
   "metadata": {},
   "outputs": [],
   "source": [
    "# Dynamically extract class mapping\n",
    "class_mapping = data[\"Symbol\"].map({\"sl\": 0, \"hgdn\": 1, \"lgdn\": 2, \"ehcc\": 3, \"phcc\": 4}).unique()\n",
    "inverse_mapping = {v: k for k, v in {\"sl\": 0, \"hgdn\": 1, \"lgdn\": 2, \"ehcc\": 3, \"phcc\": 4}.items()}\n",
    "\n",
    "# Dynamically generate colors and labels\n",
    "colors = ['#008cfa', '#E91E63', '#000080', '#FF0000', '#A020F0']  \n",
    "labels = [inverse_mapping[i] for i in range(len(class_mapping))]  # Match order dynamically"
   ]
  },
  {
   "cell_type": "markdown",
   "metadata": {},
   "source": [
    "#### **Creating the plots**\n",
    "\n",
    "#### **You can alter the figure size from the panel below**\n",
    "```python\n",
    "plt.figure(figsize(X, Y))"
   ]
  },
  {
   "cell_type": "code",
   "execution_count": 51,
   "metadata": {},
   "outputs": [
    {
     "data": {
      "image/png": "[encoded data removed]",
      "text/plain": [
       "<Figure size 1500x600 with 1 Axes>"
      ]
     },
     "metadata": {},
     "output_type": "display_data"
    }
   ],
   "source": [
    "# Creating the plot 👇\n",
    "\n",
    "\n",
    "figsize = (15, 6)   # Configurable plot size (X, Y)\n",
    "plt.figure(figsize=figsize)\n",
    "\n",
    "# Define custom y-positions for the bars\n",
    "y_positions = [i for i in range(len(sorted_features[::-1]))]\n",
    "bottom = np.zeros(len(y_positions))\n",
    "\n",
    "# Plot each class contribution\n",
    "for i, color in enumerate(colors):\n",
    "    plt.barh(\n",
    "        y_positions,  \n",
    "        mean_shap[i, sorted_idx][::-1],  # here you can flip the 1 or -1 depending on if you want it descending or ascending\n",
    "        height=0.25,                     # this is the height of the horizontal bars, edit it as you like           \n",
    "        left=bottom,\n",
    "        color=color,\n",
    "        label=labels[i],          \n",
    "    )\n",
    "    bottom += mean_shap[i, sorted_idx][::-1]  # Update bottom for stacking\n",
    "    \n",
    "# Set custom y-ticks and limits, I've done this to make the graph look a little bit better\n",
    "plt.yticks(y_positions, sorted_features[::-1], fontsize=10)  \n",
    "plt.ylim(-0.5, len(sorted_features) - 0.5)  \n",
    "\n",
    "# Labels and titles\n",
    "plt.xlabel('Mean(|SHAP Value|) (Average Impact on Model Output Magnitude)', fontsize=12)\n",
    "plt.ylabel('Features', fontsize=12)\n",
    "\n",
    "# Adding black borders to the bottom and left\n",
    "ax = plt.gca()\n",
    "ax.spines['top'].set_visible(False)  \n",
    "ax.spines['right'].set_visible(False)\n",
    "\n",
    "ax.spines['bottom'].set_color('black')\n",
    "ax.spines['bottom'].set_linewidth(1.2)  \n",
    "ax.spines['left'].set_color('black')  \n",
    "ax.spines['left'].set_linewidth(0.5)  #* In the paper the left bar was a lot lighter\n",
    "\n",
    "# Move legend to bottom-right corner with custom alignment\n",
    "plt.legend(\n",
    "    fontsize=10,\n",
    "    title=\"Classes\",\n",
    "    title_fontsize=12,\n",
    "    loc='lower right',          # Position in bottom-right corner\n",
    "    bbox_to_anchor=(1, 0),      # Custom anchor point (in order to place this at bottom right corner)\n",
    "    ncol=1,                     # Vertical layout (making one column only)\n",
    "    frameon=False               # Remove the frame, as we implemented custom black borders\n",
    ")\n",
    "\n",
    "plt.tight_layout()\n",
    "plt.show()"
   ]
  },
  {
   "cell_type": "markdown",
   "metadata": {},
   "source": [
    "##### <u> **Feature Contribution Graph** </u>\n",
    "##### - Highlights the most and least influential features in the model.\n",
    "##### - Shows impact of each feature on model output\n",
    "##### - The magnitude of the SHAP values visually indicates the strength of each feature's influence on the prediction."
   ]
  },
  {
   "cell_type": "code",
   "execution_count": 54,
   "metadata": {},
   "outputs": [
    {
     "data": {
      "image/png": "[encoded data removed]",
      "text/plain": [
       "<Figure size 1500x600 with 1 Axes>"
      ]
     },
     "metadata": {},
     "output_type": "display_data"
    }
   ],
   "source": [
    "# Creating the plot 👇\n",
    "\n",
    "\n",
    "figsize = (15, 6)   # Configurable plot size (X, Y)\n",
    "plt.figure(figsize=figsize)\n",
    "\n",
    "# Define custom y-positions for the bars\n",
    "y_positions = [i for i in range(len(sorted_features[::-1]))]\n",
    "bottom = np.zeros(len(y_positions))\n",
    "\n",
    "# Plot each class contribution\n",
    "for i, color in enumerate(colors):\n",
    "    plt.barh(\n",
    "        y_positions,  \n",
    "        mean_shap[i, sorted_idx][::-1],  # here you can flip the 1 or -1 depending on if you want it descending or ascending\n",
    "        height=0.25,                     # this is the height of the horizontal bars, edit it as you like           \n",
    "        left=bottom,\n",
    "        color=color,\n",
    "        label=labels[i],          \n",
    "    )\n",
    "    bottom += mean_shap[i, sorted_idx][::-1]  # Update bottom for stacking\n",
    "    \n",
    "# Set custom y-ticks and limits, I've done this to make the graph look a little bit better\n",
    "plt.yticks(y_positions, sorted_features[::-1], fontsize=10)  \n",
    "plt.ylim(-0.5, len(sorted_features) - 0.5)  \n",
    "\n",
    "# Labels and titles\n",
    "plt.xlabel('Mean(|SHAP Value|) (Average Impact on Model Output Magnitude)', fontsize=12)\n",
    "plt.ylabel('Features', fontsize=12)\n",
    "\n",
    "# Adding black borders to the bottom and left\n",
    "ax = plt.gca()\n",
    "ax.spines['top'].set_visible(False)  \n",
    "ax.spines['right'].set_visible(False)\n",
    "\n",
    "ax.spines['bottom'].set_color('black')\n",
    "ax.spines['bottom'].set_linewidth(1.2)  \n",
    "ax.spines['left'].set_color('black')  \n",
    "ax.spines['left'].set_linewidth(0.5)  #* In the paper the left bar was a lot lighter\n",
    "\n",
    "# Move legend to bottom-right corner with custom alignment\n",
    "plt.legend(\n",
    "    fontsize=10,\n",
    "    title=\"Classes\",\n",
    "    title_fontsize=12,\n",
    "    loc='lower right',          # Position in bottom-right corner\n",
    "    bbox_to_anchor=(1, 0),      # Custom anchor point (in order to place this at bottom right corner)\n",
    "    ncol=1,                     # Vertical layout (making one column only)\n",
    "    frameon=False               # Remove the frame, as we implemented custom black borders\n",
    ")\n",
    "\n",
    "plt.tight_layout()\n",
    "plt.show()"
   ]
  },
  {
   "cell_type": "markdown",
   "metadata": {},
   "source": [
    "Just for debugging 👇 [Ignore]"
   ]
  },
  {
   "cell_type": "code",
   "execution_count": null,
   "metadata": {},
   "outputs": [
    {
     "name": "stdout",
     "output_type": "stream",
     "text": [
      "Instance 1:\n",
      "SHAP values for the instance (rounded): [ 0.00209  0.0298   0.02593  0.36048 -0.4183 ]\n",
      "Corresponding features for the instance: [8.42841 6.67642 5.66971 5.1269  7.65715]\n",
      "--------------------------------------------------\n",
      "Instance 2:\n",
      "SHAP values for the instance (rounded): [-0.01056 -0.04259 -0.03418  0.06725  0.02008]\n",
      "Corresponding features for the instance: [8.73036 7.14994 4.26094 6.49215 8.02028]\n",
      "--------------------------------------------------\n",
      "Instance 3:\n",
      "SHAP values for the instance (rounded): [-0.00989 -0.04882 -0.05491  0.12637 -0.01274]\n",
      "Corresponding features for the instance: [7.40364 7.69148 4.90987 6.34045 7.73655]\n",
      "--------------------------------------------------\n",
      "Instance 4:\n",
      "SHAP values for the instance (rounded): [-0.00952  0.00052  0.01246 -0.10906  0.1056 ]\n",
      "Corresponding features for the instance: [ 8.27122  9.94379  7.29802  8.45604 11.6721 ]\n",
      "--------------------------------------------------\n",
      "Instance 5:\n",
      "SHAP values for the instance (rounded): [-0.00368  0.02034 -0.02676  0.01433 -0.00423]\n",
      "Corresponding features for the instance: [8.08066 7.70038 4.38737 6.48576 7.55557]\n",
      "--------------------------------------------------\n"
     ]
    }
   ],
   "source": [
    "# Print the saved results\n",
    "for result in saved_results:\n",
    "    print(f\"Instance {result['Instance']}:\")\n",
    "    print(f\"SHAP values for the instance (rounded): {result['SHAP Values']}\")\n",
    "    print(f\"Corresponding features for the instance: {result['Features']}\")\n",
    "    print(\"-\" * 50)  # Separator for clarity"
   ]
  }
 ],
 "metadata": {
  "kernelspec": {
   "display_name": "base",
   "language": "python",
   "name": "python3"
  },
  "language_info": {
   "codemirror_mode": {
    "name": "ipython",
    "version": 3
   },
   "file_extension": ".py",
   "mimetype": "text/x-python",
   "name": "python",
   "nbconvert_exporter": "python",
   "pygments_lexer": "ipython3",
   "version": "3.11.4"
  }
 },
 "nbformat": 4,
 "nbformat_minor": 2
}
